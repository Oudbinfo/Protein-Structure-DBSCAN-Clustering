{
 "cells": [
  {
   "cell_type": "code",
   "execution_count": null,
   "metadata": {
    "collapsed": true,
    "pycharm": {
     "name": "#%%\n",
     "is_executing": true
    }
   },
   "outputs": [],
   "source": [
    "import pandas as pd\n",
    "import plotly.express as px\n",
    "from sklearn.manifold import MDS"
   ]
  },
  {
   "cell_type": "markdown",
   "source": [
    "#### Load the alignment distance matrix"
   ],
   "metadata": {
    "collapsed": false,
    "pycharm": {
     "name": "#%% md\n"
    }
   }
  },
  {
   "cell_type": "code",
   "execution_count": 12,
   "outputs": [
    {
     "data": {
      "text/plain": "                 1b77A_1_228  1czdA_1001_1228  1dmlA_29_319  1iz4A_2_244  \\\ntarget                                                                     \n1b77A_1_228           0.0000           0.0104        0.3844       0.3211   \n1czdA_1001_1228       0.0104           0.0000        0.3844       0.3162   \n1dmlA_29_319          0.3844           0.3844        0.0000       0.3696   \n1iz4A_2_244           0.3211           0.3162        0.3696       0.0000   \n1mmiB_1_363           0.3048           0.3030        0.3397       0.2747   \n...                      ...              ...           ...          ...   \n7bupA_1_255           0.3027           0.2969        0.3317       0.0999   \n7ep8A_1_256           0.3114           0.3038        0.3212       0.1246   \n7evpA_3_371           0.3011           0.3066        0.3420       0.2935   \n7o1eA_2_251           0.3422           0.3343        0.3378       0.1153   \n7rzmA_2_361           0.2959           0.2997        0.3530       0.3071   \n\n                 1mmiB_1_363  1plqA_1_250  1rxmA_1_238  1ud9A_1_240  \\\ntarget                                                                \n1b77A_1_228           0.3048       0.3142       0.3119       0.3440   \n1czdA_1001_1228       0.3030       0.3117       0.3079       0.3404   \n1dmlA_29_319          0.3397       0.3295       0.3376       0.3677   \n1iz4A_2_244           0.2747       0.1381       0.1122       0.0808   \n1mmiB_1_363           0.0000       0.2397       0.2358       0.2974   \n...                      ...          ...          ...          ...   \n7bupA_1_255           0.2472       0.0769       0.1381       0.1297   \n7ep8A_1_256           0.2618       0.0646       0.1485       0.1341   \n7evpA_3_371           0.0859       0.2448       0.2494       0.3023   \n7o1eA_2_251           0.2747       0.0707       0.1536       0.1253   \n7rzmA_2_361           0.0634       0.2740       0.2799       0.3362   \n\n                 1vpkA_1_361  2avtA_1_377  ...  6dj8A_0_385  6dlkA_0_379  \\\ntarget                                     ...                             \n1b77A_1_228           0.2793       0.3298  ...       0.2871       0.3038   \n1czdA_1001_1228       0.2848       0.3274  ...       0.2894       0.3052   \n1dmlA_29_319          0.3695       0.3399  ...       0.3462       0.3496   \n1iz4A_2_244           0.2535       0.3332  ...       0.3265       0.3056   \n1mmiB_1_363           0.1104       0.1065  ...       0.1392       0.0831   \n...                      ...          ...  ...          ...          ...   \n7bupA_1_255           0.2228       0.2972  ...       0.2954       0.2738   \n7ep8A_1_256           0.2445       0.3046  ...       0.3084       0.2846   \n7evpA_3_371           0.1319       0.0681  ...       0.1411       0.0966   \n7o1eA_2_251           0.2602       0.3179  ...       0.3224       0.2973   \n7rzmA_2_361           0.1358       0.1055  ...       0.1420       0.1011   \n\n                 6manA_0_379  6qh1A_1_253  6t8hE_2_247  7bupA_1_255  \\\ntarget                                                                \n1b77A_1_228           0.3009       0.2963       0.2907       0.3027   \n1czdA_1001_1228       0.3050       0.2898       0.2873       0.2969   \n1dmlA_29_319          0.3501       0.3175       0.3272       0.3317   \n1iz4A_2_244           0.2738       0.1068       0.0543       0.0999   \n1mmiB_1_363           0.0799       0.2442       0.2436       0.2472   \n...                      ...          ...          ...          ...   \n7bupA_1_255           0.2510       0.0463       0.0847       0.0000   \n7ep8A_1_256           0.2634       0.0495       0.0930       0.0556   \n7evpA_3_371           0.0961       0.2570       0.2631       0.2643   \n7o1eA_2_251           0.2734       0.0588       0.1135       0.0608   \n7rzmA_2_361           0.1199       0.2861       0.2832       0.2931   \n\n                 7ep8A_1_256  7evpA_3_371  7o1eA_2_251  7rzmA_2_361  \ntarget                                                               \n1b77A_1_228           0.3114       0.3011       0.3422       0.2959  \n1czdA_1001_1228       0.3038       0.3066       0.3343       0.2997  \n1dmlA_29_319          0.3212       0.3420       0.3378       0.3530  \n1iz4A_2_244           0.1246       0.2935       0.1153       0.3071  \n1mmiB_1_363           0.2618       0.0859       0.2747       0.0634  \n...                      ...          ...          ...          ...  \n7bupA_1_255           0.0556       0.2643       0.0608       0.2931  \n7ep8A_1_256           0.0000       0.2774       0.0395       0.3086  \n7evpA_3_371           0.2774       0.0000       0.2902       0.0877  \n7o1eA_2_251           0.0395       0.2902       0.0000       0.3216  \n7rzmA_2_361           0.3086       0.0877       0.3216       0.0000  \n\n[63 rows x 63 columns]",
      "text/html": "<div>\n<style scoped>\n    .dataframe tbody tr th:only-of-type {\n        vertical-align: middle;\n    }\n\n    .dataframe tbody tr th {\n        vertical-align: top;\n    }\n\n    .dataframe thead th {\n        text-align: right;\n    }\n</style>\n<table border=\"1\" class=\"dataframe\">\n  <thead>\n    <tr style=\"text-align: right;\">\n      <th></th>\n      <th>1b77A_1_228</th>\n      <th>1czdA_1001_1228</th>\n      <th>1dmlA_29_319</th>\n      <th>1iz4A_2_244</th>\n      <th>1mmiB_1_363</th>\n      <th>1plqA_1_250</th>\n      <th>1rxmA_1_238</th>\n      <th>1ud9A_1_240</th>\n      <th>1vpkA_1_361</th>\n      <th>2avtA_1_377</th>\n      <th>...</th>\n      <th>6dj8A_0_385</th>\n      <th>6dlkA_0_379</th>\n      <th>6manA_0_379</th>\n      <th>6qh1A_1_253</th>\n      <th>6t8hE_2_247</th>\n      <th>7bupA_1_255</th>\n      <th>7ep8A_1_256</th>\n      <th>7evpA_3_371</th>\n      <th>7o1eA_2_251</th>\n      <th>7rzmA_2_361</th>\n    </tr>\n    <tr>\n      <th>target</th>\n      <th></th>\n      <th></th>\n      <th></th>\n      <th></th>\n      <th></th>\n      <th></th>\n      <th></th>\n      <th></th>\n      <th></th>\n      <th></th>\n      <th></th>\n      <th></th>\n      <th></th>\n      <th></th>\n      <th></th>\n      <th></th>\n      <th></th>\n      <th></th>\n      <th></th>\n      <th></th>\n      <th></th>\n    </tr>\n  </thead>\n  <tbody>\n    <tr>\n      <th>1b77A_1_228</th>\n      <td>0.0000</td>\n      <td>0.0104</td>\n      <td>0.3844</td>\n      <td>0.3211</td>\n      <td>0.3048</td>\n      <td>0.3142</td>\n      <td>0.3119</td>\n      <td>0.3440</td>\n      <td>0.2793</td>\n      <td>0.3298</td>\n      <td>...</td>\n      <td>0.2871</td>\n      <td>0.3038</td>\n      <td>0.3009</td>\n      <td>0.2963</td>\n      <td>0.2907</td>\n      <td>0.3027</td>\n      <td>0.3114</td>\n      <td>0.3011</td>\n      <td>0.3422</td>\n      <td>0.2959</td>\n    </tr>\n    <tr>\n      <th>1czdA_1001_1228</th>\n      <td>0.0104</td>\n      <td>0.0000</td>\n      <td>0.3844</td>\n      <td>0.3162</td>\n      <td>0.3030</td>\n      <td>0.3117</td>\n      <td>0.3079</td>\n      <td>0.3404</td>\n      <td>0.2848</td>\n      <td>0.3274</td>\n      <td>...</td>\n      <td>0.2894</td>\n      <td>0.3052</td>\n      <td>0.3050</td>\n      <td>0.2898</td>\n      <td>0.2873</td>\n      <td>0.2969</td>\n      <td>0.3038</td>\n      <td>0.3066</td>\n      <td>0.3343</td>\n      <td>0.2997</td>\n    </tr>\n    <tr>\n      <th>1dmlA_29_319</th>\n      <td>0.3844</td>\n      <td>0.3844</td>\n      <td>0.0000</td>\n      <td>0.3696</td>\n      <td>0.3397</td>\n      <td>0.3295</td>\n      <td>0.3376</td>\n      <td>0.3677</td>\n      <td>0.3695</td>\n      <td>0.3399</td>\n      <td>...</td>\n      <td>0.3462</td>\n      <td>0.3496</td>\n      <td>0.3501</td>\n      <td>0.3175</td>\n      <td>0.3272</td>\n      <td>0.3317</td>\n      <td>0.3212</td>\n      <td>0.3420</td>\n      <td>0.3378</td>\n      <td>0.3530</td>\n    </tr>\n    <tr>\n      <th>1iz4A_2_244</th>\n      <td>0.3211</td>\n      <td>0.3162</td>\n      <td>0.3696</td>\n      <td>0.0000</td>\n      <td>0.2747</td>\n      <td>0.1381</td>\n      <td>0.1122</td>\n      <td>0.0808</td>\n      <td>0.2535</td>\n      <td>0.3332</td>\n      <td>...</td>\n      <td>0.3265</td>\n      <td>0.3056</td>\n      <td>0.2738</td>\n      <td>0.1068</td>\n      <td>0.0543</td>\n      <td>0.0999</td>\n      <td>0.1246</td>\n      <td>0.2935</td>\n      <td>0.1153</td>\n      <td>0.3071</td>\n    </tr>\n    <tr>\n      <th>1mmiB_1_363</th>\n      <td>0.3048</td>\n      <td>0.3030</td>\n      <td>0.3397</td>\n      <td>0.2747</td>\n      <td>0.0000</td>\n      <td>0.2397</td>\n      <td>0.2358</td>\n      <td>0.2974</td>\n      <td>0.1104</td>\n      <td>0.1065</td>\n      <td>...</td>\n      <td>0.1392</td>\n      <td>0.0831</td>\n      <td>0.0799</td>\n      <td>0.2442</td>\n      <td>0.2436</td>\n      <td>0.2472</td>\n      <td>0.2618</td>\n      <td>0.0859</td>\n      <td>0.2747</td>\n      <td>0.0634</td>\n    </tr>\n    <tr>\n      <th>...</th>\n      <td>...</td>\n      <td>...</td>\n      <td>...</td>\n      <td>...</td>\n      <td>...</td>\n      <td>...</td>\n      <td>...</td>\n      <td>...</td>\n      <td>...</td>\n      <td>...</td>\n      <td>...</td>\n      <td>...</td>\n      <td>...</td>\n      <td>...</td>\n      <td>...</td>\n      <td>...</td>\n      <td>...</td>\n      <td>...</td>\n      <td>...</td>\n      <td>...</td>\n      <td>...</td>\n    </tr>\n    <tr>\n      <th>7bupA_1_255</th>\n      <td>0.3027</td>\n      <td>0.2969</td>\n      <td>0.3317</td>\n      <td>0.0999</td>\n      <td>0.2472</td>\n      <td>0.0769</td>\n      <td>0.1381</td>\n      <td>0.1297</td>\n      <td>0.2228</td>\n      <td>0.2972</td>\n      <td>...</td>\n      <td>0.2954</td>\n      <td>0.2738</td>\n      <td>0.2510</td>\n      <td>0.0463</td>\n      <td>0.0847</td>\n      <td>0.0000</td>\n      <td>0.0556</td>\n      <td>0.2643</td>\n      <td>0.0608</td>\n      <td>0.2931</td>\n    </tr>\n    <tr>\n      <th>7ep8A_1_256</th>\n      <td>0.3114</td>\n      <td>0.3038</td>\n      <td>0.3212</td>\n      <td>0.1246</td>\n      <td>0.2618</td>\n      <td>0.0646</td>\n      <td>0.1485</td>\n      <td>0.1341</td>\n      <td>0.2445</td>\n      <td>0.3046</td>\n      <td>...</td>\n      <td>0.3084</td>\n      <td>0.2846</td>\n      <td>0.2634</td>\n      <td>0.0495</td>\n      <td>0.0930</td>\n      <td>0.0556</td>\n      <td>0.0000</td>\n      <td>0.2774</td>\n      <td>0.0395</td>\n      <td>0.3086</td>\n    </tr>\n    <tr>\n      <th>7evpA_3_371</th>\n      <td>0.3011</td>\n      <td>0.3066</td>\n      <td>0.3420</td>\n      <td>0.2935</td>\n      <td>0.0859</td>\n      <td>0.2448</td>\n      <td>0.2494</td>\n      <td>0.3023</td>\n      <td>0.1319</td>\n      <td>0.0681</td>\n      <td>...</td>\n      <td>0.1411</td>\n      <td>0.0966</td>\n      <td>0.0961</td>\n      <td>0.2570</td>\n      <td>0.2631</td>\n      <td>0.2643</td>\n      <td>0.2774</td>\n      <td>0.0000</td>\n      <td>0.2902</td>\n      <td>0.0877</td>\n    </tr>\n    <tr>\n      <th>7o1eA_2_251</th>\n      <td>0.3422</td>\n      <td>0.3343</td>\n      <td>0.3378</td>\n      <td>0.1153</td>\n      <td>0.2747</td>\n      <td>0.0707</td>\n      <td>0.1536</td>\n      <td>0.1253</td>\n      <td>0.2602</td>\n      <td>0.3179</td>\n      <td>...</td>\n      <td>0.3224</td>\n      <td>0.2973</td>\n      <td>0.2734</td>\n      <td>0.0588</td>\n      <td>0.1135</td>\n      <td>0.0608</td>\n      <td>0.0395</td>\n      <td>0.2902</td>\n      <td>0.0000</td>\n      <td>0.3216</td>\n    </tr>\n    <tr>\n      <th>7rzmA_2_361</th>\n      <td>0.2959</td>\n      <td>0.2997</td>\n      <td>0.3530</td>\n      <td>0.3071</td>\n      <td>0.0634</td>\n      <td>0.2740</td>\n      <td>0.2799</td>\n      <td>0.3362</td>\n      <td>0.1358</td>\n      <td>0.1055</td>\n      <td>...</td>\n      <td>0.1420</td>\n      <td>0.1011</td>\n      <td>0.1199</td>\n      <td>0.2861</td>\n      <td>0.2832</td>\n      <td>0.2931</td>\n      <td>0.3086</td>\n      <td>0.0877</td>\n      <td>0.3216</td>\n      <td>0.0000</td>\n    </tr>\n  </tbody>\n</table>\n<p>63 rows × 63 columns</p>\n</div>"
     },
     "execution_count": 12,
     "metadata": {},
     "output_type": "execute_result"
    }
   ],
   "source": [
    "alignment_matrix = pd.read_csv(\"../data/dataframes/alignment_matrix.csv\")\n",
    "alignment_matrix.set_index(\"target\", inplace=True)\n",
    "alignment_matrix"
   ],
   "metadata": {
    "collapsed": false,
    "pycharm": {
     "name": "#%%\n"
    }
   }
  },
  {
   "cell_type": "markdown",
   "source": [
    "#### You can add additional data to color the visualization based on\n",
    "#### In this case, the number of units"
   ],
   "metadata": {
    "collapsed": false,
    "pycharm": {
     "name": "#%% md\n"
    }
   }
  },
  {
   "cell_type": "code",
   "execution_count": 36,
   "outputs": [],
   "source": [
    "rdb_unique_df = pd.read_csv(\"../data/dataframes/reviewed_unique_regions.csv\")\n",
    "rdb_unique_df.set_index(\"region_id\", inplace=True)"
   ],
   "metadata": {
    "collapsed": false,
    "pycharm": {
     "name": "#%%\n"
    }
   }
  },
  {
   "cell_type": "code",
   "execution_count": 37,
   "outputs": [],
   "source": [
    "box_df = rdb_unique_df[rdb_unique_df[\"CTFC\"].apply(lambda x: \".\".join(x.split(\".\")[:2]) == \"3.6\")]"
   ],
   "metadata": {
    "collapsed": false,
    "pycharm": {
     "name": "#%%\n"
    }
   }
  },
  {
   "cell_type": "code",
   "execution_count": 40,
   "outputs": [],
   "source": [
    "color_list = [str(box_df.loc[region_id, \"Units_num\"]) for region_id in alignment_matrix.index]"
   ],
   "metadata": {
    "collapsed": false,
    "pycharm": {
     "name": "#%%\n"
    }
   }
  },
  {
   "cell_type": "markdown",
   "source": [
    "#### 2D Visualization using MDS"
   ],
   "metadata": {
    "collapsed": false,
    "pycharm": {
     "name": "#%% md\n"
    }
   }
  },
  {
   "cell_type": "code",
   "execution_count": 43,
   "outputs": [
    {
     "data": {
      "application/vnd.plotly.v1+json": {
       "data": [
        {
         "hovertemplate": "<b>%{hovertext}</b><br><br>color=4<br>X=%{x}<br>Y=%{y}<extra></extra>",
         "hovertext": [
          "1b77A_1_228",
          "1czdA_1001_1228",
          "1dmlA_29_319",
          "1iz4A_2_244",
          "1plqA_1_250",
          "1rxmA_1_238",
          "1ud9A_1_240",
          "2hiiA_2_249",
          "2hiiB_3_241",
          "2hikC_2_240",
          "2z0lA_1_299",
          "2zvvA_1_255",
          "2zvwA_2_251",
          "3a1jB_2_277",
          "3a1jC_17_271",
          "3aixA_2_241",
          "3aixB_3_244",
          "3g65A_1_273",
          "3hi8A_1_240",
          "3hslX_4_300",
          "3k4xA_270_517",
          "3k4xA_2_250",
          "3k4xA_537_784",
          "3lx1A_2_247",
          "3lx2A_3_244",
          "3p91A_1_254",
          "4cs5A_1_255",
          "4hk1A_-2_254",
          "4ztdA_4_251",
          "5a6dA_2_247",
          "5ixaA_8_270",
          "5tupA_1_254",
          "6aigA_16_262",
          "6qh1A_1_253",
          "6t8hE_2_247",
          "7bupA_1_255",
          "7ep8A_1_256",
          "7o1eA_2_251"
         ],
         "legendgroup": "4",
         "marker": {
          "color": "#636efa",
          "symbol": "circle",
          "line": {
           "color": "DarkSlateGrey",
           "width": 1
          },
          "size": 6
         },
         "mode": "markers",
         "name": "4",
         "orientation": "v",
         "showlegend": true,
         "x": [
          0.15242193509799262,
          0.14925023962241568,
          -0.04997580285969361,
          -0.12134661660682623,
          -0.08851878510705478,
          -0.03389615351392569,
          -0.14295713719816083,
          -0.1814707298866106,
          -0.09418667268843531,
          -0.09960587587092457,
          -0.16630921998034207,
          -0.11540864368428966,
          -0.11534971430049368,
          -0.12441344334135357,
          -0.0819806392510977,
          -0.08644645077743554,
          -0.19818256897323688,
          0.022161940298394734,
          -0.028105753379578435,
          -0.11160463327355906,
          -0.12251340809103746,
          -0.13259823333661147,
          -0.10674132898307633,
          -0.06370402000516666,
          -0.08838291229127641,
          -0.10945919239171549,
          -0.12101218975711865,
          -0.12763287575496896,
          -0.12983996769874687,
          -0.07920908014468273,
          -0.07192966955017208,
          -0.13473074873220894,
          -0.058712841233567646,
          -0.09512989647030651,
          -0.07829290414042768,
          -0.09717334835442346,
          -0.13296629955028683,
          -0.15231018662902912
         ],
         "xaxis": "x",
         "y": [
          0.2230469358921738,
          0.22337202416851423,
          -0.28771046176425535,
          0.12254016276849516,
          0.01198922844720578,
          0.11245600114998702,
          0.13397882939847175,
          -0.00958480476410157,
          0.13330449051260973,
          0.12326932517270829,
          -0.25523016680752497,
          0.02301652868994356,
          0.021307460912646035,
          -0.12712943467765284,
          -0.07804274850848994,
          0.13316063145975562,
          -0.04872297256123874,
          0.19434716588998696,
          0.12232531161679751,
          -0.28570782413460327,
          0.06147116228760576,
          0.02030256044419482,
          0.04634905156307204,
          0.08115154111764585,
          0.10218275662560433,
          0.07050582324674302,
          0.03853550859605945,
          0.05483434957108041,
          0.04671751198545373,
          0.07832715635361191,
          -0.1912391611556595,
          0.02927005170562916,
          0.10672800351888086,
          0.02992725023253275,
          0.0853104143093692,
          0.041359145100737904,
          0.029854376354231205,
          0.043399712682670864
         ],
         "yaxis": "y",
         "type": "scatter"
        },
        {
         "hovertemplate": "<b>%{hovertext}</b><br><br>color=6<br>X=%{x}<br>Y=%{y}<extra></extra>",
         "hovertext": [
          "1mmiB_1_363",
          "1vpkA_1_361",
          "2avtA_1_377",
          "2awaA_1_377",
          "3p16A_14_395",
          "4k74A_0_364",
          "4rkiA_2_375",
          "4tr6A_1_380",
          "4tr7A_10_400",
          "4tr8B_2_362",
          "4trtB_2_357",
          "5ah2A_9_390",
          "5w7zA_0_379",
          "5wceA_1_372",
          "5x06A_-1_365",
          "6amqC_1_365",
          "6ap4A_0_381",
          "6d46A_0_381",
          "6d47A_10_402",
          "6degA_0_373",
          "6dj8A_0_385",
          "6dlkA_0_379",
          "6manA_0_379",
          "7evpA_3_371",
          "7rzmA_2_361"
         ],
         "legendgroup": "6",
         "marker": {
          "color": "#EF553B",
          "symbol": "circle",
          "line": {
           "color": "DarkSlateGrey",
           "width": 1
          },
          "size": 6
         },
         "mode": "markers",
         "name": "6",
         "orientation": "v",
         "showlegend": true,
         "x": [
          0.1189574991541964,
          0.10744248471499591,
          0.16714038408560788,
          0.16628949623052228,
          0.15678157755684569,
          0.13095550474224865,
          0.12255305495464862,
          0.15078520928568787,
          0.11941820007870124,
          0.139799158347832,
          0.15376809706800937,
          0.08922581173611739,
          0.10172308927158688,
          0.1748756914804415,
          0.13538519718978428,
          0.15457933155573764,
          0.19546450393360137,
          0.09717505868848611,
          0.1499212146943496,
          0.1090096566090661,
          0.1320087751947326,
          0.12646328859399453,
          0.0968854730467709,
          0.13838528207233686,
          0.18327078850273693
         ],
         "xaxis": "x",
         "y": [
          -0.03101837541723565,
          0.0573421796628342,
          -0.10002868356745229,
          -0.029652900841722545,
          0.02823673322342354,
          -0.04788691020186369,
          -0.11016293115928581,
          -0.07750725599814924,
          0.00785677459909689,
          -0.04103757264731286,
          0.038380416260305465,
          -0.10164386242369418,
          -0.0828556133930109,
          -0.06253015220914204,
          -0.039112518108585674,
          -0.05468718094398541,
          -0.019303431443907598,
          -0.06146436384093316,
          -0.003875687325994226,
          -0.1302353370427361,
          -0.15467694209627897,
          -0.08556982315036937,
          -0.04901235853741567,
          -0.06555429794913405,
          -0.04497280284834281
         ],
         "yaxis": "y",
         "type": "scatter"
        }
       ],
       "layout": {
        "template": {
         "data": {
          "histogram2dcontour": [
           {
            "type": "histogram2dcontour",
            "colorbar": {
             "outlinewidth": 0,
             "ticks": ""
            },
            "colorscale": [
             [
              0.0,
              "#0d0887"
             ],
             [
              0.1111111111111111,
              "#46039f"
             ],
             [
              0.2222222222222222,
              "#7201a8"
             ],
             [
              0.3333333333333333,
              "#9c179e"
             ],
             [
              0.4444444444444444,
              "#bd3786"
             ],
             [
              0.5555555555555556,
              "#d8576b"
             ],
             [
              0.6666666666666666,
              "#ed7953"
             ],
             [
              0.7777777777777778,
              "#fb9f3a"
             ],
             [
              0.8888888888888888,
              "#fdca26"
             ],
             [
              1.0,
              "#f0f921"
             ]
            ]
           }
          ],
          "choropleth": [
           {
            "type": "choropleth",
            "colorbar": {
             "outlinewidth": 0,
             "ticks": ""
            }
           }
          ],
          "histogram2d": [
           {
            "type": "histogram2d",
            "colorbar": {
             "outlinewidth": 0,
             "ticks": ""
            },
            "colorscale": [
             [
              0.0,
              "#0d0887"
             ],
             [
              0.1111111111111111,
              "#46039f"
             ],
             [
              0.2222222222222222,
              "#7201a8"
             ],
             [
              0.3333333333333333,
              "#9c179e"
             ],
             [
              0.4444444444444444,
              "#bd3786"
             ],
             [
              0.5555555555555556,
              "#d8576b"
             ],
             [
              0.6666666666666666,
              "#ed7953"
             ],
             [
              0.7777777777777778,
              "#fb9f3a"
             ],
             [
              0.8888888888888888,
              "#fdca26"
             ],
             [
              1.0,
              "#f0f921"
             ]
            ]
           }
          ],
          "heatmap": [
           {
            "type": "heatmap",
            "colorbar": {
             "outlinewidth": 0,
             "ticks": ""
            },
            "colorscale": [
             [
              0.0,
              "#0d0887"
             ],
             [
              0.1111111111111111,
              "#46039f"
             ],
             [
              0.2222222222222222,
              "#7201a8"
             ],
             [
              0.3333333333333333,
              "#9c179e"
             ],
             [
              0.4444444444444444,
              "#bd3786"
             ],
             [
              0.5555555555555556,
              "#d8576b"
             ],
             [
              0.6666666666666666,
              "#ed7953"
             ],
             [
              0.7777777777777778,
              "#fb9f3a"
             ],
             [
              0.8888888888888888,
              "#fdca26"
             ],
             [
              1.0,
              "#f0f921"
             ]
            ]
           }
          ],
          "heatmapgl": [
           {
            "type": "heatmapgl",
            "colorbar": {
             "outlinewidth": 0,
             "ticks": ""
            },
            "colorscale": [
             [
              0.0,
              "#0d0887"
             ],
             [
              0.1111111111111111,
              "#46039f"
             ],
             [
              0.2222222222222222,
              "#7201a8"
             ],
             [
              0.3333333333333333,
              "#9c179e"
             ],
             [
              0.4444444444444444,
              "#bd3786"
             ],
             [
              0.5555555555555556,
              "#d8576b"
             ],
             [
              0.6666666666666666,
              "#ed7953"
             ],
             [
              0.7777777777777778,
              "#fb9f3a"
             ],
             [
              0.8888888888888888,
              "#fdca26"
             ],
             [
              1.0,
              "#f0f921"
             ]
            ]
           }
          ],
          "contourcarpet": [
           {
            "type": "contourcarpet",
            "colorbar": {
             "outlinewidth": 0,
             "ticks": ""
            }
           }
          ],
          "contour": [
           {
            "type": "contour",
            "colorbar": {
             "outlinewidth": 0,
             "ticks": ""
            },
            "colorscale": [
             [
              0.0,
              "#0d0887"
             ],
             [
              0.1111111111111111,
              "#46039f"
             ],
             [
              0.2222222222222222,
              "#7201a8"
             ],
             [
              0.3333333333333333,
              "#9c179e"
             ],
             [
              0.4444444444444444,
              "#bd3786"
             ],
             [
              0.5555555555555556,
              "#d8576b"
             ],
             [
              0.6666666666666666,
              "#ed7953"
             ],
             [
              0.7777777777777778,
              "#fb9f3a"
             ],
             [
              0.8888888888888888,
              "#fdca26"
             ],
             [
              1.0,
              "#f0f921"
             ]
            ]
           }
          ],
          "surface": [
           {
            "type": "surface",
            "colorbar": {
             "outlinewidth": 0,
             "ticks": ""
            },
            "colorscale": [
             [
              0.0,
              "#0d0887"
             ],
             [
              0.1111111111111111,
              "#46039f"
             ],
             [
              0.2222222222222222,
              "#7201a8"
             ],
             [
              0.3333333333333333,
              "#9c179e"
             ],
             [
              0.4444444444444444,
              "#bd3786"
             ],
             [
              0.5555555555555556,
              "#d8576b"
             ],
             [
              0.6666666666666666,
              "#ed7953"
             ],
             [
              0.7777777777777778,
              "#fb9f3a"
             ],
             [
              0.8888888888888888,
              "#fdca26"
             ],
             [
              1.0,
              "#f0f921"
             ]
            ]
           }
          ],
          "mesh3d": [
           {
            "type": "mesh3d",
            "colorbar": {
             "outlinewidth": 0,
             "ticks": ""
            }
           }
          ],
          "scatter": [
           {
            "marker": {
             "line": {
              "color": "#283442"
             }
            },
            "type": "scatter"
           }
          ],
          "parcoords": [
           {
            "type": "parcoords",
            "line": {
             "colorbar": {
              "outlinewidth": 0,
              "ticks": ""
             }
            }
           }
          ],
          "scatterpolargl": [
           {
            "type": "scatterpolargl",
            "marker": {
             "colorbar": {
              "outlinewidth": 0,
              "ticks": ""
             }
            }
           }
          ],
          "bar": [
           {
            "error_x": {
             "color": "#f2f5fa"
            },
            "error_y": {
             "color": "#f2f5fa"
            },
            "marker": {
             "line": {
              "color": "rgb(17,17,17)",
              "width": 0.5
             },
             "pattern": {
              "fillmode": "overlay",
              "size": 10,
              "solidity": 0.2
             }
            },
            "type": "bar"
           }
          ],
          "scattergeo": [
           {
            "type": "scattergeo",
            "marker": {
             "colorbar": {
              "outlinewidth": 0,
              "ticks": ""
             }
            }
           }
          ],
          "scatterpolar": [
           {
            "type": "scatterpolar",
            "marker": {
             "colorbar": {
              "outlinewidth": 0,
              "ticks": ""
             }
            }
           }
          ],
          "histogram": [
           {
            "marker": {
             "pattern": {
              "fillmode": "overlay",
              "size": 10,
              "solidity": 0.2
             }
            },
            "type": "histogram"
           }
          ],
          "scattergl": [
           {
            "marker": {
             "line": {
              "color": "#283442"
             }
            },
            "type": "scattergl"
           }
          ],
          "scatter3d": [
           {
            "type": "scatter3d",
            "line": {
             "colorbar": {
              "outlinewidth": 0,
              "ticks": ""
             }
            },
            "marker": {
             "colorbar": {
              "outlinewidth": 0,
              "ticks": ""
             }
            }
           }
          ],
          "scattermapbox": [
           {
            "type": "scattermapbox",
            "marker": {
             "colorbar": {
              "outlinewidth": 0,
              "ticks": ""
             }
            }
           }
          ],
          "scatterternary": [
           {
            "type": "scatterternary",
            "marker": {
             "colorbar": {
              "outlinewidth": 0,
              "ticks": ""
             }
            }
           }
          ],
          "scattercarpet": [
           {
            "type": "scattercarpet",
            "marker": {
             "colorbar": {
              "outlinewidth": 0,
              "ticks": ""
             }
            }
           }
          ],
          "carpet": [
           {
            "aaxis": {
             "endlinecolor": "#A2B1C6",
             "gridcolor": "#506784",
             "linecolor": "#506784",
             "minorgridcolor": "#506784",
             "startlinecolor": "#A2B1C6"
            },
            "baxis": {
             "endlinecolor": "#A2B1C6",
             "gridcolor": "#506784",
             "linecolor": "#506784",
             "minorgridcolor": "#506784",
             "startlinecolor": "#A2B1C6"
            },
            "type": "carpet"
           }
          ],
          "table": [
           {
            "cells": {
             "fill": {
              "color": "#506784"
             },
             "line": {
              "color": "rgb(17,17,17)"
             }
            },
            "header": {
             "fill": {
              "color": "#2a3f5f"
             },
             "line": {
              "color": "rgb(17,17,17)"
             }
            },
            "type": "table"
           }
          ],
          "barpolar": [
           {
            "marker": {
             "line": {
              "color": "rgb(17,17,17)",
              "width": 0.5
             },
             "pattern": {
              "fillmode": "overlay",
              "size": 10,
              "solidity": 0.2
             }
            },
            "type": "barpolar"
           }
          ],
          "pie": [
           {
            "automargin": true,
            "type": "pie"
           }
          ]
         },
         "layout": {
          "autotypenumbers": "strict",
          "colorway": [
           "#636efa",
           "#EF553B",
           "#00cc96",
           "#ab63fa",
           "#FFA15A",
           "#19d3f3",
           "#FF6692",
           "#B6E880",
           "#FF97FF",
           "#FECB52"
          ],
          "font": {
           "color": "#f2f5fa"
          },
          "hovermode": "closest",
          "hoverlabel": {
           "align": "left"
          },
          "paper_bgcolor": "rgb(17,17,17)",
          "plot_bgcolor": "rgb(17,17,17)",
          "polar": {
           "bgcolor": "rgb(17,17,17)",
           "angularaxis": {
            "gridcolor": "#506784",
            "linecolor": "#506784",
            "ticks": ""
           },
           "radialaxis": {
            "gridcolor": "#506784",
            "linecolor": "#506784",
            "ticks": ""
           }
          },
          "ternary": {
           "bgcolor": "rgb(17,17,17)",
           "aaxis": {
            "gridcolor": "#506784",
            "linecolor": "#506784",
            "ticks": ""
           },
           "baxis": {
            "gridcolor": "#506784",
            "linecolor": "#506784",
            "ticks": ""
           },
           "caxis": {
            "gridcolor": "#506784",
            "linecolor": "#506784",
            "ticks": ""
           }
          },
          "coloraxis": {
           "colorbar": {
            "outlinewidth": 0,
            "ticks": ""
           }
          },
          "colorscale": {
           "sequential": [
            [
             0.0,
             "#0d0887"
            ],
            [
             0.1111111111111111,
             "#46039f"
            ],
            [
             0.2222222222222222,
             "#7201a8"
            ],
            [
             0.3333333333333333,
             "#9c179e"
            ],
            [
             0.4444444444444444,
             "#bd3786"
            ],
            [
             0.5555555555555556,
             "#d8576b"
            ],
            [
             0.6666666666666666,
             "#ed7953"
            ],
            [
             0.7777777777777778,
             "#fb9f3a"
            ],
            [
             0.8888888888888888,
             "#fdca26"
            ],
            [
             1.0,
             "#f0f921"
            ]
           ],
           "sequentialminus": [
            [
             0.0,
             "#0d0887"
            ],
            [
             0.1111111111111111,
             "#46039f"
            ],
            [
             0.2222222222222222,
             "#7201a8"
            ],
            [
             0.3333333333333333,
             "#9c179e"
            ],
            [
             0.4444444444444444,
             "#bd3786"
            ],
            [
             0.5555555555555556,
             "#d8576b"
            ],
            [
             0.6666666666666666,
             "#ed7953"
            ],
            [
             0.7777777777777778,
             "#fb9f3a"
            ],
            [
             0.8888888888888888,
             "#fdca26"
            ],
            [
             1.0,
             "#f0f921"
            ]
           ],
           "diverging": [
            [
             0,
             "#8e0152"
            ],
            [
             0.1,
             "#c51b7d"
            ],
            [
             0.2,
             "#de77ae"
            ],
            [
             0.3,
             "#f1b6da"
            ],
            [
             0.4,
             "#fde0ef"
            ],
            [
             0.5,
             "#f7f7f7"
            ],
            [
             0.6,
             "#e6f5d0"
            ],
            [
             0.7,
             "#b8e186"
            ],
            [
             0.8,
             "#7fbc41"
            ],
            [
             0.9,
             "#4d9221"
            ],
            [
             1,
             "#276419"
            ]
           ]
          },
          "xaxis": {
           "gridcolor": "#283442",
           "linecolor": "#506784",
           "ticks": "",
           "title": {
            "standoff": 15
           },
           "zerolinecolor": "#283442",
           "automargin": true,
           "zerolinewidth": 2
          },
          "yaxis": {
           "gridcolor": "#283442",
           "linecolor": "#506784",
           "ticks": "",
           "title": {
            "standoff": 15
           },
           "zerolinecolor": "#283442",
           "automargin": true,
           "zerolinewidth": 2
          },
          "scene": {
           "xaxis": {
            "backgroundcolor": "rgb(17,17,17)",
            "gridcolor": "#506784",
            "linecolor": "#506784",
            "showbackground": true,
            "ticks": "",
            "zerolinecolor": "#C8D4E3",
            "gridwidth": 2
           },
           "yaxis": {
            "backgroundcolor": "rgb(17,17,17)",
            "gridcolor": "#506784",
            "linecolor": "#506784",
            "showbackground": true,
            "ticks": "",
            "zerolinecolor": "#C8D4E3",
            "gridwidth": 2
           },
           "zaxis": {
            "backgroundcolor": "rgb(17,17,17)",
            "gridcolor": "#506784",
            "linecolor": "#506784",
            "showbackground": true,
            "ticks": "",
            "zerolinecolor": "#C8D4E3",
            "gridwidth": 2
           }
          },
          "shapedefaults": {
           "line": {
            "color": "#f2f5fa"
           }
          },
          "annotationdefaults": {
           "arrowcolor": "#f2f5fa",
           "arrowhead": 0,
           "arrowwidth": 1
          },
          "geo": {
           "bgcolor": "rgb(17,17,17)",
           "landcolor": "rgb(17,17,17)",
           "subunitcolor": "#506784",
           "showland": true,
           "showlakes": true,
           "lakecolor": "rgb(17,17,17)"
          },
          "title": {
           "x": 0.05
          },
          "updatemenudefaults": {
           "bgcolor": "#506784",
           "borderwidth": 0
          },
          "sliderdefaults": {
           "bgcolor": "#C8D4E3",
           "borderwidth": 1,
           "bordercolor": "rgb(17,17,17)",
           "tickwidth": 0
          },
          "mapbox": {
           "style": "dark"
          }
         }
        },
        "xaxis": {
         "anchor": "y",
         "domain": [
          0.0,
          1.0
         ],
         "title": {
          "text": "X"
         }
        },
        "yaxis": {
         "anchor": "x",
         "domain": [
          0.0,
          1.0
         ],
         "title": {
          "text": "Y"
         }
        },
        "legend": {
         "title": {
          "text": "color"
         },
         "tracegroupgap": 0
        },
        "margin": {
         "t": 60
        }
       },
       "config": {
        "plotlyServerURL": "https://plot.ly"
       }
      },
      "text/html": "<div>                            <div id=\"ebc4032e-513e-4c70-8c27-a961c598b779\" class=\"plotly-graph-div\" style=\"height:525px; width:100%;\"></div>            <script type=\"text/javascript\">                require([\"plotly\"], function(Plotly) {                    window.PLOTLYENV=window.PLOTLYENV || {};                                    if (document.getElementById(\"ebc4032e-513e-4c70-8c27-a961c598b779\")) {                    Plotly.newPlot(                        \"ebc4032e-513e-4c70-8c27-a961c598b779\",                        [{\"hovertemplate\":\"<b>%{hovertext}</b><br><br>color=4<br>X=%{x}<br>Y=%{y}<extra></extra>\",\"hovertext\":[\"1b77A_1_228\",\"1czdA_1001_1228\",\"1dmlA_29_319\",\"1iz4A_2_244\",\"1plqA_1_250\",\"1rxmA_1_238\",\"1ud9A_1_240\",\"2hiiA_2_249\",\"2hiiB_3_241\",\"2hikC_2_240\",\"2z0lA_1_299\",\"2zvvA_1_255\",\"2zvwA_2_251\",\"3a1jB_2_277\",\"3a1jC_17_271\",\"3aixA_2_241\",\"3aixB_3_244\",\"3g65A_1_273\",\"3hi8A_1_240\",\"3hslX_4_300\",\"3k4xA_270_517\",\"3k4xA_2_250\",\"3k4xA_537_784\",\"3lx1A_2_247\",\"3lx2A_3_244\",\"3p91A_1_254\",\"4cs5A_1_255\",\"4hk1A_-2_254\",\"4ztdA_4_251\",\"5a6dA_2_247\",\"5ixaA_8_270\",\"5tupA_1_254\",\"6aigA_16_262\",\"6qh1A_1_253\",\"6t8hE_2_247\",\"7bupA_1_255\",\"7ep8A_1_256\",\"7o1eA_2_251\"],\"legendgroup\":\"4\",\"marker\":{\"color\":\"#636efa\",\"symbol\":\"circle\",\"line\":{\"color\":\"DarkSlateGrey\",\"width\":1},\"size\":6},\"mode\":\"markers\",\"name\":\"4\",\"orientation\":\"v\",\"showlegend\":true,\"x\":[0.15242193509799262,0.14925023962241568,-0.04997580285969361,-0.12134661660682623,-0.08851878510705478,-0.03389615351392569,-0.14295713719816083,-0.1814707298866106,-0.09418667268843531,-0.09960587587092457,-0.16630921998034207,-0.11540864368428966,-0.11534971430049368,-0.12441344334135357,-0.0819806392510977,-0.08644645077743554,-0.19818256897323688,0.022161940298394734,-0.028105753379578435,-0.11160463327355906,-0.12251340809103746,-0.13259823333661147,-0.10674132898307633,-0.06370402000516666,-0.08838291229127641,-0.10945919239171549,-0.12101218975711865,-0.12763287575496896,-0.12983996769874687,-0.07920908014468273,-0.07192966955017208,-0.13473074873220894,-0.058712841233567646,-0.09512989647030651,-0.07829290414042768,-0.09717334835442346,-0.13296629955028683,-0.15231018662902912],\"xaxis\":\"x\",\"y\":[0.2230469358921738,0.22337202416851423,-0.28771046176425535,0.12254016276849516,0.01198922844720578,0.11245600114998702,0.13397882939847175,-0.00958480476410157,0.13330449051260973,0.12326932517270829,-0.25523016680752497,0.02301652868994356,0.021307460912646035,-0.12712943467765284,-0.07804274850848994,0.13316063145975562,-0.04872297256123874,0.19434716588998696,0.12232531161679751,-0.28570782413460327,0.06147116228760576,0.02030256044419482,0.04634905156307204,0.08115154111764585,0.10218275662560433,0.07050582324674302,0.03853550859605945,0.05483434957108041,0.04671751198545373,0.07832715635361191,-0.1912391611556595,0.02927005170562916,0.10672800351888086,0.02992725023253275,0.0853104143093692,0.041359145100737904,0.029854376354231205,0.043399712682670864],\"yaxis\":\"y\",\"type\":\"scatter\"},{\"hovertemplate\":\"<b>%{hovertext}</b><br><br>color=6<br>X=%{x}<br>Y=%{y}<extra></extra>\",\"hovertext\":[\"1mmiB_1_363\",\"1vpkA_1_361\",\"2avtA_1_377\",\"2awaA_1_377\",\"3p16A_14_395\",\"4k74A_0_364\",\"4rkiA_2_375\",\"4tr6A_1_380\",\"4tr7A_10_400\",\"4tr8B_2_362\",\"4trtB_2_357\",\"5ah2A_9_390\",\"5w7zA_0_379\",\"5wceA_1_372\",\"5x06A_-1_365\",\"6amqC_1_365\",\"6ap4A_0_381\",\"6d46A_0_381\",\"6d47A_10_402\",\"6degA_0_373\",\"6dj8A_0_385\",\"6dlkA_0_379\",\"6manA_0_379\",\"7evpA_3_371\",\"7rzmA_2_361\"],\"legendgroup\":\"6\",\"marker\":{\"color\":\"#EF553B\",\"symbol\":\"circle\",\"line\":{\"color\":\"DarkSlateGrey\",\"width\":1},\"size\":6},\"mode\":\"markers\",\"name\":\"6\",\"orientation\":\"v\",\"showlegend\":true,\"x\":[0.1189574991541964,0.10744248471499591,0.16714038408560788,0.16628949623052228,0.15678157755684569,0.13095550474224865,0.12255305495464862,0.15078520928568787,0.11941820007870124,0.139799158347832,0.15376809706800937,0.08922581173611739,0.10172308927158688,0.1748756914804415,0.13538519718978428,0.15457933155573764,0.19546450393360137,0.09717505868848611,0.1499212146943496,0.1090096566090661,0.1320087751947326,0.12646328859399453,0.0968854730467709,0.13838528207233686,0.18327078850273693],\"xaxis\":\"x\",\"y\":[-0.03101837541723565,0.0573421796628342,-0.10002868356745229,-0.029652900841722545,0.02823673322342354,-0.04788691020186369,-0.11016293115928581,-0.07750725599814924,0.00785677459909689,-0.04103757264731286,0.038380416260305465,-0.10164386242369418,-0.0828556133930109,-0.06253015220914204,-0.039112518108585674,-0.05468718094398541,-0.019303431443907598,-0.06146436384093316,-0.003875687325994226,-0.1302353370427361,-0.15467694209627897,-0.08556982315036937,-0.04901235853741567,-0.06555429794913405,-0.04497280284834281],\"yaxis\":\"y\",\"type\":\"scatter\"}],                        {\"template\":{\"data\":{\"histogram2dcontour\":[{\"type\":\"histogram2dcontour\",\"colorbar\":{\"outlinewidth\":0,\"ticks\":\"\"},\"colorscale\":[[0.0,\"#0d0887\"],[0.1111111111111111,\"#46039f\"],[0.2222222222222222,\"#7201a8\"],[0.3333333333333333,\"#9c179e\"],[0.4444444444444444,\"#bd3786\"],[0.5555555555555556,\"#d8576b\"],[0.6666666666666666,\"#ed7953\"],[0.7777777777777778,\"#fb9f3a\"],[0.8888888888888888,\"#fdca26\"],[1.0,\"#f0f921\"]]}],\"choropleth\":[{\"type\":\"choropleth\",\"colorbar\":{\"outlinewidth\":0,\"ticks\":\"\"}}],\"histogram2d\":[{\"type\":\"histogram2d\",\"colorbar\":{\"outlinewidth\":0,\"ticks\":\"\"},\"colorscale\":[[0.0,\"#0d0887\"],[0.1111111111111111,\"#46039f\"],[0.2222222222222222,\"#7201a8\"],[0.3333333333333333,\"#9c179e\"],[0.4444444444444444,\"#bd3786\"],[0.5555555555555556,\"#d8576b\"],[0.6666666666666666,\"#ed7953\"],[0.7777777777777778,\"#fb9f3a\"],[0.8888888888888888,\"#fdca26\"],[1.0,\"#f0f921\"]]}],\"heatmap\":[{\"type\":\"heatmap\",\"colorbar\":{\"outlinewidth\":0,\"ticks\":\"\"},\"colorscale\":[[0.0,\"#0d0887\"],[0.1111111111111111,\"#46039f\"],[0.2222222222222222,\"#7201a8\"],[0.3333333333333333,\"#9c179e\"],[0.4444444444444444,\"#bd3786\"],[0.5555555555555556,\"#d8576b\"],[0.6666666666666666,\"#ed7953\"],[0.7777777777777778,\"#fb9f3a\"],[0.8888888888888888,\"#fdca26\"],[1.0,\"#f0f921\"]]}],\"heatmapgl\":[{\"type\":\"heatmapgl\",\"colorbar\":{\"outlinewidth\":0,\"ticks\":\"\"},\"colorscale\":[[0.0,\"#0d0887\"],[0.1111111111111111,\"#46039f\"],[0.2222222222222222,\"#7201a8\"],[0.3333333333333333,\"#9c179e\"],[0.4444444444444444,\"#bd3786\"],[0.5555555555555556,\"#d8576b\"],[0.6666666666666666,\"#ed7953\"],[0.7777777777777778,\"#fb9f3a\"],[0.8888888888888888,\"#fdca26\"],[1.0,\"#f0f921\"]]}],\"contourcarpet\":[{\"type\":\"contourcarpet\",\"colorbar\":{\"outlinewidth\":0,\"ticks\":\"\"}}],\"contour\":[{\"type\":\"contour\",\"colorbar\":{\"outlinewidth\":0,\"ticks\":\"\"},\"colorscale\":[[0.0,\"#0d0887\"],[0.1111111111111111,\"#46039f\"],[0.2222222222222222,\"#7201a8\"],[0.3333333333333333,\"#9c179e\"],[0.4444444444444444,\"#bd3786\"],[0.5555555555555556,\"#d8576b\"],[0.6666666666666666,\"#ed7953\"],[0.7777777777777778,\"#fb9f3a\"],[0.8888888888888888,\"#fdca26\"],[1.0,\"#f0f921\"]]}],\"surface\":[{\"type\":\"surface\",\"colorbar\":{\"outlinewidth\":0,\"ticks\":\"\"},\"colorscale\":[[0.0,\"#0d0887\"],[0.1111111111111111,\"#46039f\"],[0.2222222222222222,\"#7201a8\"],[0.3333333333333333,\"#9c179e\"],[0.4444444444444444,\"#bd3786\"],[0.5555555555555556,\"#d8576b\"],[0.6666666666666666,\"#ed7953\"],[0.7777777777777778,\"#fb9f3a\"],[0.8888888888888888,\"#fdca26\"],[1.0,\"#f0f921\"]]}],\"mesh3d\":[{\"type\":\"mesh3d\",\"colorbar\":{\"outlinewidth\":0,\"ticks\":\"\"}}],\"scatter\":[{\"marker\":{\"line\":{\"color\":\"#283442\"}},\"type\":\"scatter\"}],\"parcoords\":[{\"type\":\"parcoords\",\"line\":{\"colorbar\":{\"outlinewidth\":0,\"ticks\":\"\"}}}],\"scatterpolargl\":[{\"type\":\"scatterpolargl\",\"marker\":{\"colorbar\":{\"outlinewidth\":0,\"ticks\":\"\"}}}],\"bar\":[{\"error_x\":{\"color\":\"#f2f5fa\"},\"error_y\":{\"color\":\"#f2f5fa\"},\"marker\":{\"line\":{\"color\":\"rgb(17,17,17)\",\"width\":0.5},\"pattern\":{\"fillmode\":\"overlay\",\"size\":10,\"solidity\":0.2}},\"type\":\"bar\"}],\"scattergeo\":[{\"type\":\"scattergeo\",\"marker\":{\"colorbar\":{\"outlinewidth\":0,\"ticks\":\"\"}}}],\"scatterpolar\":[{\"type\":\"scatterpolar\",\"marker\":{\"colorbar\":{\"outlinewidth\":0,\"ticks\":\"\"}}}],\"histogram\":[{\"marker\":{\"pattern\":{\"fillmode\":\"overlay\",\"size\":10,\"solidity\":0.2}},\"type\":\"histogram\"}],\"scattergl\":[{\"marker\":{\"line\":{\"color\":\"#283442\"}},\"type\":\"scattergl\"}],\"scatter3d\":[{\"type\":\"scatter3d\",\"line\":{\"colorbar\":{\"outlinewidth\":0,\"ticks\":\"\"}},\"marker\":{\"colorbar\":{\"outlinewidth\":0,\"ticks\":\"\"}}}],\"scattermapbox\":[{\"type\":\"scattermapbox\",\"marker\":{\"colorbar\":{\"outlinewidth\":0,\"ticks\":\"\"}}}],\"scatterternary\":[{\"type\":\"scatterternary\",\"marker\":{\"colorbar\":{\"outlinewidth\":0,\"ticks\":\"\"}}}],\"scattercarpet\":[{\"type\":\"scattercarpet\",\"marker\":{\"colorbar\":{\"outlinewidth\":0,\"ticks\":\"\"}}}],\"carpet\":[{\"aaxis\":{\"endlinecolor\":\"#A2B1C6\",\"gridcolor\":\"#506784\",\"linecolor\":\"#506784\",\"minorgridcolor\":\"#506784\",\"startlinecolor\":\"#A2B1C6\"},\"baxis\":{\"endlinecolor\":\"#A2B1C6\",\"gridcolor\":\"#506784\",\"linecolor\":\"#506784\",\"minorgridcolor\":\"#506784\",\"startlinecolor\":\"#A2B1C6\"},\"type\":\"carpet\"}],\"table\":[{\"cells\":{\"fill\":{\"color\":\"#506784\"},\"line\":{\"color\":\"rgb(17,17,17)\"}},\"header\":{\"fill\":{\"color\":\"#2a3f5f\"},\"line\":{\"color\":\"rgb(17,17,17)\"}},\"type\":\"table\"}],\"barpolar\":[{\"marker\":{\"line\":{\"color\":\"rgb(17,17,17)\",\"width\":0.5},\"pattern\":{\"fillmode\":\"overlay\",\"size\":10,\"solidity\":0.2}},\"type\":\"barpolar\"}],\"pie\":[{\"automargin\":true,\"type\":\"pie\"}]},\"layout\":{\"autotypenumbers\":\"strict\",\"colorway\":[\"#636efa\",\"#EF553B\",\"#00cc96\",\"#ab63fa\",\"#FFA15A\",\"#19d3f3\",\"#FF6692\",\"#B6E880\",\"#FF97FF\",\"#FECB52\"],\"font\":{\"color\":\"#f2f5fa\"},\"hovermode\":\"closest\",\"hoverlabel\":{\"align\":\"left\"},\"paper_bgcolor\":\"rgb(17,17,17)\",\"plot_bgcolor\":\"rgb(17,17,17)\",\"polar\":{\"bgcolor\":\"rgb(17,17,17)\",\"angularaxis\":{\"gridcolor\":\"#506784\",\"linecolor\":\"#506784\",\"ticks\":\"\"},\"radialaxis\":{\"gridcolor\":\"#506784\",\"linecolor\":\"#506784\",\"ticks\":\"\"}},\"ternary\":{\"bgcolor\":\"rgb(17,17,17)\",\"aaxis\":{\"gridcolor\":\"#506784\",\"linecolor\":\"#506784\",\"ticks\":\"\"},\"baxis\":{\"gridcolor\":\"#506784\",\"linecolor\":\"#506784\",\"ticks\":\"\"},\"caxis\":{\"gridcolor\":\"#506784\",\"linecolor\":\"#506784\",\"ticks\":\"\"}},\"coloraxis\":{\"colorbar\":{\"outlinewidth\":0,\"ticks\":\"\"}},\"colorscale\":{\"sequential\":[[0.0,\"#0d0887\"],[0.1111111111111111,\"#46039f\"],[0.2222222222222222,\"#7201a8\"],[0.3333333333333333,\"#9c179e\"],[0.4444444444444444,\"#bd3786\"],[0.5555555555555556,\"#d8576b\"],[0.6666666666666666,\"#ed7953\"],[0.7777777777777778,\"#fb9f3a\"],[0.8888888888888888,\"#fdca26\"],[1.0,\"#f0f921\"]],\"sequentialminus\":[[0.0,\"#0d0887\"],[0.1111111111111111,\"#46039f\"],[0.2222222222222222,\"#7201a8\"],[0.3333333333333333,\"#9c179e\"],[0.4444444444444444,\"#bd3786\"],[0.5555555555555556,\"#d8576b\"],[0.6666666666666666,\"#ed7953\"],[0.7777777777777778,\"#fb9f3a\"],[0.8888888888888888,\"#fdca26\"],[1.0,\"#f0f921\"]],\"diverging\":[[0,\"#8e0152\"],[0.1,\"#c51b7d\"],[0.2,\"#de77ae\"],[0.3,\"#f1b6da\"],[0.4,\"#fde0ef\"],[0.5,\"#f7f7f7\"],[0.6,\"#e6f5d0\"],[0.7,\"#b8e186\"],[0.8,\"#7fbc41\"],[0.9,\"#4d9221\"],[1,\"#276419\"]]},\"xaxis\":{\"gridcolor\":\"#283442\",\"linecolor\":\"#506784\",\"ticks\":\"\",\"title\":{\"standoff\":15},\"zerolinecolor\":\"#283442\",\"automargin\":true,\"zerolinewidth\":2},\"yaxis\":{\"gridcolor\":\"#283442\",\"linecolor\":\"#506784\",\"ticks\":\"\",\"title\":{\"standoff\":15},\"zerolinecolor\":\"#283442\",\"automargin\":true,\"zerolinewidth\":2},\"scene\":{\"xaxis\":{\"backgroundcolor\":\"rgb(17,17,17)\",\"gridcolor\":\"#506784\",\"linecolor\":\"#506784\",\"showbackground\":true,\"ticks\":\"\",\"zerolinecolor\":\"#C8D4E3\",\"gridwidth\":2},\"yaxis\":{\"backgroundcolor\":\"rgb(17,17,17)\",\"gridcolor\":\"#506784\",\"linecolor\":\"#506784\",\"showbackground\":true,\"ticks\":\"\",\"zerolinecolor\":\"#C8D4E3\",\"gridwidth\":2},\"zaxis\":{\"backgroundcolor\":\"rgb(17,17,17)\",\"gridcolor\":\"#506784\",\"linecolor\":\"#506784\",\"showbackground\":true,\"ticks\":\"\",\"zerolinecolor\":\"#C8D4E3\",\"gridwidth\":2}},\"shapedefaults\":{\"line\":{\"color\":\"#f2f5fa\"}},\"annotationdefaults\":{\"arrowcolor\":\"#f2f5fa\",\"arrowhead\":0,\"arrowwidth\":1},\"geo\":{\"bgcolor\":\"rgb(17,17,17)\",\"landcolor\":\"rgb(17,17,17)\",\"subunitcolor\":\"#506784\",\"showland\":true,\"showlakes\":true,\"lakecolor\":\"rgb(17,17,17)\"},\"title\":{\"x\":0.05},\"updatemenudefaults\":{\"bgcolor\":\"#506784\",\"borderwidth\":0},\"sliderdefaults\":{\"bgcolor\":\"#C8D4E3\",\"borderwidth\":1,\"bordercolor\":\"rgb(17,17,17)\",\"tickwidth\":0},\"mapbox\":{\"style\":\"dark\"}}},\"xaxis\":{\"anchor\":\"y\",\"domain\":[0.0,1.0],\"title\":{\"text\":\"X\"}},\"yaxis\":{\"anchor\":\"x\",\"domain\":[0.0,1.0],\"title\":{\"text\":\"Y\"}},\"legend\":{\"title\":{\"text\":\"color\"},\"tracegroupgap\":0},\"margin\":{\"t\":60}},                        {\"responsive\": true}                    ).then(function(){\n                            \nvar gd = document.getElementById('ebc4032e-513e-4c70-8c27-a961c598b779');\nvar x = new MutationObserver(function (mutations, observer) {{\n        var display = window.getComputedStyle(gd).display;\n        if (!display || display === 'none') {{\n            console.log([gd, 'removed!']);\n            Plotly.purge(gd);\n            observer.disconnect();\n        }}\n}});\n\n// Listen for the removal of the full notebook cells\nvar notebookContainer = gd.closest('#notebook-container');\nif (notebookContainer) {{\n    x.observe(notebookContainer, {childList: true});\n}}\n\n// Listen for the clearing of the current output cell\nvar outputEl = gd.closest('.output');\nif (outputEl) {{\n    x.observe(outputEl, {childList: true});\n}}\n\n                        })                };                });            </script>        </div>"
     },
     "metadata": {},
     "output_type": "display_data"
    }
   ],
   "source": [
    "mds = MDS(n_components=2, dissimilarity=\"precomputed\", n_init=1000, max_iter=2000)\n",
    "X_r = mds.fit(alignment_matrix).embedding_\n",
    "\n",
    "df = pd.DataFrame({\"X\":X_r[:,0], \"Y\":X_r[:,1], \"color\":color_list,  \"ID\":alignment_matrix.index.tolist()})\n",
    "\n",
    "fig = px.scatter(df, x=\"X\", y=\"Y\", color=\"color\", hover_name=\"ID\")\n",
    "fig.update_traces(marker=dict(size=6, line=dict(width=1, color='DarkSlateGrey')), selector=dict(mode='markers'))\n",
    "\n",
    "fig.show()"
   ],
   "metadata": {
    "collapsed": false,
    "pycharm": {
     "name": "#%%\n"
    }
   }
  },
  {
   "cell_type": "markdown",
   "source": [
    "#### 3D Visualization using MDS"
   ],
   "metadata": {
    "collapsed": false,
    "pycharm": {
     "name": "#%% md\n"
    }
   }
  },
  {
   "cell_type": "code",
   "execution_count": 44,
   "outputs": [
    {
     "data": {
      "application/vnd.plotly.v1+json": {
       "data": [
        {
         "hovertemplate": "<b>%{hovertext}</b><br><br>color=4<br>X=%{x}<br>Y=%{y}<br>Z=%{z}<extra></extra>",
         "hovertext": [
          "1b77A_1_228",
          "1czdA_1001_1228",
          "1dmlA_29_319",
          "1iz4A_2_244",
          "1plqA_1_250",
          "1rxmA_1_238",
          "1ud9A_1_240",
          "2hiiA_2_249",
          "2hiiB_3_241",
          "2hikC_2_240",
          "2z0lA_1_299",
          "2zvvA_1_255",
          "2zvwA_2_251",
          "3a1jB_2_277",
          "3a1jC_17_271",
          "3aixA_2_241",
          "3aixB_3_244",
          "3g65A_1_273",
          "3hi8A_1_240",
          "3hslX_4_300",
          "3k4xA_270_517",
          "3k4xA_2_250",
          "3k4xA_537_784",
          "3lx1A_2_247",
          "3lx2A_3_244",
          "3p91A_1_254",
          "4cs5A_1_255",
          "4hk1A_-2_254",
          "4ztdA_4_251",
          "5a6dA_2_247",
          "5ixaA_8_270",
          "5tupA_1_254",
          "6aigA_16_262",
          "6qh1A_1_253",
          "6t8hE_2_247",
          "7bupA_1_255",
          "7ep8A_1_256",
          "7o1eA_2_251"
         ],
         "legendgroup": "4",
         "marker": {
          "color": "#636efa",
          "symbol": "circle",
          "line": {
           "color": "DarkSlateGrey",
           "width": 1
          },
          "size": 6
         },
         "mode": "markers",
         "name": "4",
         "scene": "scene",
         "showlegend": true,
         "x": [
          0.12265857313781953,
          0.06779114893407455,
          -0.2673513474835652,
          0.0937091569778353,
          0.05874189148387499,
          0.0801056084893931,
          0.11734017661578748,
          -0.020906557188050675,
          0.1251783690060732,
          0.12083067385936097,
          -0.22223292502630118,
          0.038643453410627956,
          0.048235100659478426,
          0.1502869065715397,
          -0.06891065418659796,
          0.13159956374610624,
          -0.06630837734303464,
          0.19086374760917024,
          0.008531303116205625,
          -0.11689810784568058,
          0.08568200508953921,
          0.062368803346018575,
          0.0827773455735629,
          0.07650175628155127,
          0.08537391296638805,
          0.021292632788292392,
          0.050767360948626994,
          0.02952259959217782,
          0.07278525710555749,
          0.058520429177619196,
          -0.1127663874883038,
          0.03889013017661703,
          0.055947723317894986,
          0.040391030368489775,
          0.06807113537386777,
          0.03473976842797126,
          0.04097671530472206,
          0.053203616870790726
         ],
         "y": [
          -0.11072249725366717,
          -0.0813194045653851,
          0.11728405729433898,
          0.11860039510713216,
          0.07316754648185095,
          0.04661453142649464,
          0.13363848905612832,
          0.16336452758310646,
          0.07973510232346198,
          0.08647117081769157,
          0.11468934840513546,
          0.1099548011231685,
          0.10599014944496452,
          0.0049020226006626704,
          0.08294342729145367,
          0.07488559912648449,
          0.18799189589179177,
          -0.04141207271392182,
          0.08733343622517922,
          0.03705068219073872,
          0.10152929845810693,
          0.11291399101038987,
          0.08910264765333076,
          0.06600923010414286,
          0.09029061749892374,
          0.12280397668545863,
          0.11752437697754269,
          0.1299185374472145,
          0.11300457511037636,
          0.09087491895652149,
          0.042582669451825365,
          0.1284063875743902,
          0.08196522182775844,
          0.09325407882236571,
          0.08637844232318614,
          0.10730853050626772,
          0.12605818367097923,
          0.14449550387528878
         ],
         "z": [
          0.20224440021689838,
          0.23444914695946964,
          0.007009164403147329,
          -0.07321943433471483,
          0.03886772128698624,
          -0.09341743406188141,
          -0.07161816759503951,
          -0.06569653365274493,
          -0.05652548109193974,
          -0.04457403187484737,
          0.16484885429910778,
          0.029044786659114922,
          0.03178622428142296,
          0.12893684224659904,
          0.06268611200328404,
          -0.029569683686168868,
          -0.005945567041755476,
          -0.026113913556931184,
          -0.1071743155123749,
          0.27582025013221106,
          0.021500338201784947,
          0.0441771270032912,
          0.031080407122416002,
          -0.0431559656576983,
          -0.05792030542081754,
          -0.026106309332705184,
          0.009996274647757649,
          -0.017565621905686186,
          0.019756996156338948,
          -0.045939022987184906,
          0.16675855948794752,
          0.021590018710677106,
          -0.08852026031780168,
          0.012781701592455596,
          -0.04514652760570346,
          -0.0019231240646468948,
          0.02837963593526257,
          0.020339550749696667
         ],
         "type": "scatter3d"
        },
        {
         "hovertemplate": "<b>%{hovertext}</b><br><br>color=6<br>X=%{x}<br>Y=%{y}<br>Z=%{z}<extra></extra>",
         "hovertext": [
          "1mmiB_1_363",
          "1vpkA_1_361",
          "2avtA_1_377",
          "2awaA_1_377",
          "3p16A_14_395",
          "4k74A_0_364",
          "4rkiA_2_375",
          "4tr6A_1_380",
          "4tr7A_10_400",
          "4tr8B_2_362",
          "4trtB_2_357",
          "5ah2A_9_390",
          "5w7zA_0_379",
          "5wceA_1_372",
          "5x06A_-1_365",
          "6amqC_1_365",
          "6ap4A_0_381",
          "6d46A_0_381",
          "6d47A_10_402",
          "6degA_0_373",
          "6dj8A_0_385",
          "6dlkA_0_379",
          "6manA_0_379",
          "7evpA_3_371",
          "7rzmA_2_361"
         ],
         "legendgroup": "6",
         "marker": {
          "color": "#EF553B",
          "symbol": "circle",
          "line": {
           "color": "DarkSlateGrey",
           "width": 1
          },
          "size": 6
         },
         "mode": "markers",
         "name": "6",
         "scene": "scene",
         "showlegend": true,
         "x": [
          -0.02826245321658413,
          0.059934890209868114,
          -0.09871857419238128,
          -0.06546628967702713,
          -0.09662252956470278,
          -0.04193323889168167,
          -0.030679557842015308,
          -0.0747191405560253,
          -0.0830569096596149,
          -0.0264739312984258,
          -0.13734802474311789,
          -0.11540519381621993,
          -0.08606746984219801,
          -0.022825228510721073,
          -0.04042466418401976,
          -0.04899286045826132,
          0.009928140835130389,
          -0.0463090820254268,
          -0.10547864160993681,
          -0.11523868377702069,
          -0.10464825732388265,
          -0.06360612481386431,
          -0.035943064568734376,
          -0.014325214391653008,
          -0.024271435846984716
         ],
         "y": [
          -0.12276133116413669,
          -0.11729206489978317,
          -0.1613576439566963,
          -0.14165135821538707,
          -0.08329197382895025,
          -0.13544493306050367,
          -0.15380782842762766,
          -0.14780368497888643,
          -0.07631265695391298,
          -0.14193956175289707,
          -0.06633244095620558,
          -0.08909178379577214,
          -0.11355100721811824,
          -0.17351461953511477,
          -0.13390099632262417,
          -0.1522086201520973,
          -0.18695558329797174,
          -0.11031584580008685,
          -0.10120514655161746,
          -0.10341306653484328,
          -0.14668090388682078,
          -0.13951923295098315,
          -0.10893091087941584,
          -0.14798776799934052,
          -0.1803134326910865
         ],
         "z": [
          -0.0198977529891624,
          0.004434129057454613,
          -0.0034463277640519865,
          0.03301096357353345,
          -0.10895167504124038,
          -0.0067786493538043915,
          -0.08126513621565368,
          -0.03159686628244796,
          -0.08283051231148188,
          -0.004298661842747921,
          -0.046112222340021096,
          -0.05189703896880454,
          -0.046829280361727545,
          0.01109819093962418,
          0.016863133415216155,
          0.002908112172308982,
          -0.009892704253147842,
          -0.0706348891066161,
          -0.06777469211327286,
          0.04125636170651891,
          0.07440306431521868,
          -0.06303937540839576,
          -0.07650198454004858,
          -0.04845397429895246,
          -0.015694624383524848
         ],
         "type": "scatter3d"
        }
       ],
       "layout": {
        "template": {
         "data": {
          "histogram2dcontour": [
           {
            "type": "histogram2dcontour",
            "colorbar": {
             "outlinewidth": 0,
             "ticks": ""
            },
            "colorscale": [
             [
              0.0,
              "#0d0887"
             ],
             [
              0.1111111111111111,
              "#46039f"
             ],
             [
              0.2222222222222222,
              "#7201a8"
             ],
             [
              0.3333333333333333,
              "#9c179e"
             ],
             [
              0.4444444444444444,
              "#bd3786"
             ],
             [
              0.5555555555555556,
              "#d8576b"
             ],
             [
              0.6666666666666666,
              "#ed7953"
             ],
             [
              0.7777777777777778,
              "#fb9f3a"
             ],
             [
              0.8888888888888888,
              "#fdca26"
             ],
             [
              1.0,
              "#f0f921"
             ]
            ]
           }
          ],
          "choropleth": [
           {
            "type": "choropleth",
            "colorbar": {
             "outlinewidth": 0,
             "ticks": ""
            }
           }
          ],
          "histogram2d": [
           {
            "type": "histogram2d",
            "colorbar": {
             "outlinewidth": 0,
             "ticks": ""
            },
            "colorscale": [
             [
              0.0,
              "#0d0887"
             ],
             [
              0.1111111111111111,
              "#46039f"
             ],
             [
              0.2222222222222222,
              "#7201a8"
             ],
             [
              0.3333333333333333,
              "#9c179e"
             ],
             [
              0.4444444444444444,
              "#bd3786"
             ],
             [
              0.5555555555555556,
              "#d8576b"
             ],
             [
              0.6666666666666666,
              "#ed7953"
             ],
             [
              0.7777777777777778,
              "#fb9f3a"
             ],
             [
              0.8888888888888888,
              "#fdca26"
             ],
             [
              1.0,
              "#f0f921"
             ]
            ]
           }
          ],
          "heatmap": [
           {
            "type": "heatmap",
            "colorbar": {
             "outlinewidth": 0,
             "ticks": ""
            },
            "colorscale": [
             [
              0.0,
              "#0d0887"
             ],
             [
              0.1111111111111111,
              "#46039f"
             ],
             [
              0.2222222222222222,
              "#7201a8"
             ],
             [
              0.3333333333333333,
              "#9c179e"
             ],
             [
              0.4444444444444444,
              "#bd3786"
             ],
             [
              0.5555555555555556,
              "#d8576b"
             ],
             [
              0.6666666666666666,
              "#ed7953"
             ],
             [
              0.7777777777777778,
              "#fb9f3a"
             ],
             [
              0.8888888888888888,
              "#fdca26"
             ],
             [
              1.0,
              "#f0f921"
             ]
            ]
           }
          ],
          "heatmapgl": [
           {
            "type": "heatmapgl",
            "colorbar": {
             "outlinewidth": 0,
             "ticks": ""
            },
            "colorscale": [
             [
              0.0,
              "#0d0887"
             ],
             [
              0.1111111111111111,
              "#46039f"
             ],
             [
              0.2222222222222222,
              "#7201a8"
             ],
             [
              0.3333333333333333,
              "#9c179e"
             ],
             [
              0.4444444444444444,
              "#bd3786"
             ],
             [
              0.5555555555555556,
              "#d8576b"
             ],
             [
              0.6666666666666666,
              "#ed7953"
             ],
             [
              0.7777777777777778,
              "#fb9f3a"
             ],
             [
              0.8888888888888888,
              "#fdca26"
             ],
             [
              1.0,
              "#f0f921"
             ]
            ]
           }
          ],
          "contourcarpet": [
           {
            "type": "contourcarpet",
            "colorbar": {
             "outlinewidth": 0,
             "ticks": ""
            }
           }
          ],
          "contour": [
           {
            "type": "contour",
            "colorbar": {
             "outlinewidth": 0,
             "ticks": ""
            },
            "colorscale": [
             [
              0.0,
              "#0d0887"
             ],
             [
              0.1111111111111111,
              "#46039f"
             ],
             [
              0.2222222222222222,
              "#7201a8"
             ],
             [
              0.3333333333333333,
              "#9c179e"
             ],
             [
              0.4444444444444444,
              "#bd3786"
             ],
             [
              0.5555555555555556,
              "#d8576b"
             ],
             [
              0.6666666666666666,
              "#ed7953"
             ],
             [
              0.7777777777777778,
              "#fb9f3a"
             ],
             [
              0.8888888888888888,
              "#fdca26"
             ],
             [
              1.0,
              "#f0f921"
             ]
            ]
           }
          ],
          "surface": [
           {
            "type": "surface",
            "colorbar": {
             "outlinewidth": 0,
             "ticks": ""
            },
            "colorscale": [
             [
              0.0,
              "#0d0887"
             ],
             [
              0.1111111111111111,
              "#46039f"
             ],
             [
              0.2222222222222222,
              "#7201a8"
             ],
             [
              0.3333333333333333,
              "#9c179e"
             ],
             [
              0.4444444444444444,
              "#bd3786"
             ],
             [
              0.5555555555555556,
              "#d8576b"
             ],
             [
              0.6666666666666666,
              "#ed7953"
             ],
             [
              0.7777777777777778,
              "#fb9f3a"
             ],
             [
              0.8888888888888888,
              "#fdca26"
             ],
             [
              1.0,
              "#f0f921"
             ]
            ]
           }
          ],
          "mesh3d": [
           {
            "type": "mesh3d",
            "colorbar": {
             "outlinewidth": 0,
             "ticks": ""
            }
           }
          ],
          "scatter": [
           {
            "marker": {
             "line": {
              "color": "#283442"
             }
            },
            "type": "scatter"
           }
          ],
          "parcoords": [
           {
            "type": "parcoords",
            "line": {
             "colorbar": {
              "outlinewidth": 0,
              "ticks": ""
             }
            }
           }
          ],
          "scatterpolargl": [
           {
            "type": "scatterpolargl",
            "marker": {
             "colorbar": {
              "outlinewidth": 0,
              "ticks": ""
             }
            }
           }
          ],
          "bar": [
           {
            "error_x": {
             "color": "#f2f5fa"
            },
            "error_y": {
             "color": "#f2f5fa"
            },
            "marker": {
             "line": {
              "color": "rgb(17,17,17)",
              "width": 0.5
             },
             "pattern": {
              "fillmode": "overlay",
              "size": 10,
              "solidity": 0.2
             }
            },
            "type": "bar"
           }
          ],
          "scattergeo": [
           {
            "type": "scattergeo",
            "marker": {
             "colorbar": {
              "outlinewidth": 0,
              "ticks": ""
             }
            }
           }
          ],
          "scatterpolar": [
           {
            "type": "scatterpolar",
            "marker": {
             "colorbar": {
              "outlinewidth": 0,
              "ticks": ""
             }
            }
           }
          ],
          "histogram": [
           {
            "marker": {
             "pattern": {
              "fillmode": "overlay",
              "size": 10,
              "solidity": 0.2
             }
            },
            "type": "histogram"
           }
          ],
          "scattergl": [
           {
            "marker": {
             "line": {
              "color": "#283442"
             }
            },
            "type": "scattergl"
           }
          ],
          "scatter3d": [
           {
            "type": "scatter3d",
            "line": {
             "colorbar": {
              "outlinewidth": 0,
              "ticks": ""
             }
            },
            "marker": {
             "colorbar": {
              "outlinewidth": 0,
              "ticks": ""
             }
            }
           }
          ],
          "scattermapbox": [
           {
            "type": "scattermapbox",
            "marker": {
             "colorbar": {
              "outlinewidth": 0,
              "ticks": ""
             }
            }
           }
          ],
          "scatterternary": [
           {
            "type": "scatterternary",
            "marker": {
             "colorbar": {
              "outlinewidth": 0,
              "ticks": ""
             }
            }
           }
          ],
          "scattercarpet": [
           {
            "type": "scattercarpet",
            "marker": {
             "colorbar": {
              "outlinewidth": 0,
              "ticks": ""
             }
            }
           }
          ],
          "carpet": [
           {
            "aaxis": {
             "endlinecolor": "#A2B1C6",
             "gridcolor": "#506784",
             "linecolor": "#506784",
             "minorgridcolor": "#506784",
             "startlinecolor": "#A2B1C6"
            },
            "baxis": {
             "endlinecolor": "#A2B1C6",
             "gridcolor": "#506784",
             "linecolor": "#506784",
             "minorgridcolor": "#506784",
             "startlinecolor": "#A2B1C6"
            },
            "type": "carpet"
           }
          ],
          "table": [
           {
            "cells": {
             "fill": {
              "color": "#506784"
             },
             "line": {
              "color": "rgb(17,17,17)"
             }
            },
            "header": {
             "fill": {
              "color": "#2a3f5f"
             },
             "line": {
              "color": "rgb(17,17,17)"
             }
            },
            "type": "table"
           }
          ],
          "barpolar": [
           {
            "marker": {
             "line": {
              "color": "rgb(17,17,17)",
              "width": 0.5
             },
             "pattern": {
              "fillmode": "overlay",
              "size": 10,
              "solidity": 0.2
             }
            },
            "type": "barpolar"
           }
          ],
          "pie": [
           {
            "automargin": true,
            "type": "pie"
           }
          ]
         },
         "layout": {
          "autotypenumbers": "strict",
          "colorway": [
           "#636efa",
           "#EF553B",
           "#00cc96",
           "#ab63fa",
           "#FFA15A",
           "#19d3f3",
           "#FF6692",
           "#B6E880",
           "#FF97FF",
           "#FECB52"
          ],
          "font": {
           "color": "#f2f5fa"
          },
          "hovermode": "closest",
          "hoverlabel": {
           "align": "left"
          },
          "paper_bgcolor": "rgb(17,17,17)",
          "plot_bgcolor": "rgb(17,17,17)",
          "polar": {
           "bgcolor": "rgb(17,17,17)",
           "angularaxis": {
            "gridcolor": "#506784",
            "linecolor": "#506784",
            "ticks": ""
           },
           "radialaxis": {
            "gridcolor": "#506784",
            "linecolor": "#506784",
            "ticks": ""
           }
          },
          "ternary": {
           "bgcolor": "rgb(17,17,17)",
           "aaxis": {
            "gridcolor": "#506784",
            "linecolor": "#506784",
            "ticks": ""
           },
           "baxis": {
            "gridcolor": "#506784",
            "linecolor": "#506784",
            "ticks": ""
           },
           "caxis": {
            "gridcolor": "#506784",
            "linecolor": "#506784",
            "ticks": ""
           }
          },
          "coloraxis": {
           "colorbar": {
            "outlinewidth": 0,
            "ticks": ""
           }
          },
          "colorscale": {
           "sequential": [
            [
             0.0,
             "#0d0887"
            ],
            [
             0.1111111111111111,
             "#46039f"
            ],
            [
             0.2222222222222222,
             "#7201a8"
            ],
            [
             0.3333333333333333,
             "#9c179e"
            ],
            [
             0.4444444444444444,
             "#bd3786"
            ],
            [
             0.5555555555555556,
             "#d8576b"
            ],
            [
             0.6666666666666666,
             "#ed7953"
            ],
            [
             0.7777777777777778,
             "#fb9f3a"
            ],
            [
             0.8888888888888888,
             "#fdca26"
            ],
            [
             1.0,
             "#f0f921"
            ]
           ],
           "sequentialminus": [
            [
             0.0,
             "#0d0887"
            ],
            [
             0.1111111111111111,
             "#46039f"
            ],
            [
             0.2222222222222222,
             "#7201a8"
            ],
            [
             0.3333333333333333,
             "#9c179e"
            ],
            [
             0.4444444444444444,
             "#bd3786"
            ],
            [
             0.5555555555555556,
             "#d8576b"
            ],
            [
             0.6666666666666666,
             "#ed7953"
            ],
            [
             0.7777777777777778,
             "#fb9f3a"
            ],
            [
             0.8888888888888888,
             "#fdca26"
            ],
            [
             1.0,
             "#f0f921"
            ]
           ],
           "diverging": [
            [
             0,
             "#8e0152"
            ],
            [
             0.1,
             "#c51b7d"
            ],
            [
             0.2,
             "#de77ae"
            ],
            [
             0.3,
             "#f1b6da"
            ],
            [
             0.4,
             "#fde0ef"
            ],
            [
             0.5,
             "#f7f7f7"
            ],
            [
             0.6,
             "#e6f5d0"
            ],
            [
             0.7,
             "#b8e186"
            ],
            [
             0.8,
             "#7fbc41"
            ],
            [
             0.9,
             "#4d9221"
            ],
            [
             1,
             "#276419"
            ]
           ]
          },
          "xaxis": {
           "gridcolor": "#283442",
           "linecolor": "#506784",
           "ticks": "",
           "title": {
            "standoff": 15
           },
           "zerolinecolor": "#283442",
           "automargin": true,
           "zerolinewidth": 2
          },
          "yaxis": {
           "gridcolor": "#283442",
           "linecolor": "#506784",
           "ticks": "",
           "title": {
            "standoff": 15
           },
           "zerolinecolor": "#283442",
           "automargin": true,
           "zerolinewidth": 2
          },
          "scene": {
           "xaxis": {
            "backgroundcolor": "rgb(17,17,17)",
            "gridcolor": "#506784",
            "linecolor": "#506784",
            "showbackground": true,
            "ticks": "",
            "zerolinecolor": "#C8D4E3",
            "gridwidth": 2
           },
           "yaxis": {
            "backgroundcolor": "rgb(17,17,17)",
            "gridcolor": "#506784",
            "linecolor": "#506784",
            "showbackground": true,
            "ticks": "",
            "zerolinecolor": "#C8D4E3",
            "gridwidth": 2
           },
           "zaxis": {
            "backgroundcolor": "rgb(17,17,17)",
            "gridcolor": "#506784",
            "linecolor": "#506784",
            "showbackground": true,
            "ticks": "",
            "zerolinecolor": "#C8D4E3",
            "gridwidth": 2
           }
          },
          "shapedefaults": {
           "line": {
            "color": "#f2f5fa"
           }
          },
          "annotationdefaults": {
           "arrowcolor": "#f2f5fa",
           "arrowhead": 0,
           "arrowwidth": 1
          },
          "geo": {
           "bgcolor": "rgb(17,17,17)",
           "landcolor": "rgb(17,17,17)",
           "subunitcolor": "#506784",
           "showland": true,
           "showlakes": true,
           "lakecolor": "rgb(17,17,17)"
          },
          "title": {
           "x": 0.05
          },
          "updatemenudefaults": {
           "bgcolor": "#506784",
           "borderwidth": 0
          },
          "sliderdefaults": {
           "bgcolor": "#C8D4E3",
           "borderwidth": 1,
           "bordercolor": "rgb(17,17,17)",
           "tickwidth": 0
          },
          "mapbox": {
           "style": "dark"
          }
         }
        },
        "scene": {
         "domain": {
          "x": [
           0.0,
           1.0
          ],
          "y": [
           0.0,
           1.0
          ]
         },
         "xaxis": {
          "title": {
           "text": "X"
          }
         },
         "yaxis": {
          "title": {
           "text": "Y"
          }
         },
         "zaxis": {
          "title": {
           "text": "Z"
          }
         }
        },
        "legend": {
         "title": {
          "text": "color"
         },
         "tracegroupgap": 0
        },
        "margin": {
         "t": 60
        }
       },
       "config": {
        "plotlyServerURL": "https://plot.ly"
       }
      },
      "text/html": "<div>                            <div id=\"9995a4d5-6656-4d8d-a6f5-5166377fb138\" class=\"plotly-graph-div\" style=\"height:525px; width:100%;\"></div>            <script type=\"text/javascript\">                require([\"plotly\"], function(Plotly) {                    window.PLOTLYENV=window.PLOTLYENV || {};                                    if (document.getElementById(\"9995a4d5-6656-4d8d-a6f5-5166377fb138\")) {                    Plotly.newPlot(                        \"9995a4d5-6656-4d8d-a6f5-5166377fb138\",                        [{\"hovertemplate\":\"<b>%{hovertext}</b><br><br>color=4<br>X=%{x}<br>Y=%{y}<br>Z=%{z}<extra></extra>\",\"hovertext\":[\"1b77A_1_228\",\"1czdA_1001_1228\",\"1dmlA_29_319\",\"1iz4A_2_244\",\"1plqA_1_250\",\"1rxmA_1_238\",\"1ud9A_1_240\",\"2hiiA_2_249\",\"2hiiB_3_241\",\"2hikC_2_240\",\"2z0lA_1_299\",\"2zvvA_1_255\",\"2zvwA_2_251\",\"3a1jB_2_277\",\"3a1jC_17_271\",\"3aixA_2_241\",\"3aixB_3_244\",\"3g65A_1_273\",\"3hi8A_1_240\",\"3hslX_4_300\",\"3k4xA_270_517\",\"3k4xA_2_250\",\"3k4xA_537_784\",\"3lx1A_2_247\",\"3lx2A_3_244\",\"3p91A_1_254\",\"4cs5A_1_255\",\"4hk1A_-2_254\",\"4ztdA_4_251\",\"5a6dA_2_247\",\"5ixaA_8_270\",\"5tupA_1_254\",\"6aigA_16_262\",\"6qh1A_1_253\",\"6t8hE_2_247\",\"7bupA_1_255\",\"7ep8A_1_256\",\"7o1eA_2_251\"],\"legendgroup\":\"4\",\"marker\":{\"color\":\"#636efa\",\"symbol\":\"circle\",\"line\":{\"color\":\"DarkSlateGrey\",\"width\":1},\"size\":6},\"mode\":\"markers\",\"name\":\"4\",\"scene\":\"scene\",\"showlegend\":true,\"x\":[0.12265857313781953,0.06779114893407455,-0.2673513474835652,0.0937091569778353,0.05874189148387499,0.0801056084893931,0.11734017661578748,-0.020906557188050675,0.1251783690060732,0.12083067385936097,-0.22223292502630118,0.038643453410627956,0.048235100659478426,0.1502869065715397,-0.06891065418659796,0.13159956374610624,-0.06630837734303464,0.19086374760917024,0.008531303116205625,-0.11689810784568058,0.08568200508953921,0.062368803346018575,0.0827773455735629,0.07650175628155127,0.08537391296638805,0.021292632788292392,0.050767360948626994,0.02952259959217782,0.07278525710555749,0.058520429177619196,-0.1127663874883038,0.03889013017661703,0.055947723317894986,0.040391030368489775,0.06807113537386777,0.03473976842797126,0.04097671530472206,0.053203616870790726],\"y\":[-0.11072249725366717,-0.0813194045653851,0.11728405729433898,0.11860039510713216,0.07316754648185095,0.04661453142649464,0.13363848905612832,0.16336452758310646,0.07973510232346198,0.08647117081769157,0.11468934840513546,0.1099548011231685,0.10599014944496452,0.0049020226006626704,0.08294342729145367,0.07488559912648449,0.18799189589179177,-0.04141207271392182,0.08733343622517922,0.03705068219073872,0.10152929845810693,0.11291399101038987,0.08910264765333076,0.06600923010414286,0.09029061749892374,0.12280397668545863,0.11752437697754269,0.1299185374472145,0.11300457511037636,0.09087491895652149,0.042582669451825365,0.1284063875743902,0.08196522182775844,0.09325407882236571,0.08637844232318614,0.10730853050626772,0.12605818367097923,0.14449550387528878],\"z\":[0.20224440021689838,0.23444914695946964,0.007009164403147329,-0.07321943433471483,0.03886772128698624,-0.09341743406188141,-0.07161816759503951,-0.06569653365274493,-0.05652548109193974,-0.04457403187484737,0.16484885429910778,0.029044786659114922,0.03178622428142296,0.12893684224659904,0.06268611200328404,-0.029569683686168868,-0.005945567041755476,-0.026113913556931184,-0.1071743155123749,0.27582025013221106,0.021500338201784947,0.0441771270032912,0.031080407122416002,-0.0431559656576983,-0.05792030542081754,-0.026106309332705184,0.009996274647757649,-0.017565621905686186,0.019756996156338948,-0.045939022987184906,0.16675855948794752,0.021590018710677106,-0.08852026031780168,0.012781701592455596,-0.04514652760570346,-0.0019231240646468948,0.02837963593526257,0.020339550749696667],\"type\":\"scatter3d\"},{\"hovertemplate\":\"<b>%{hovertext}</b><br><br>color=6<br>X=%{x}<br>Y=%{y}<br>Z=%{z}<extra></extra>\",\"hovertext\":[\"1mmiB_1_363\",\"1vpkA_1_361\",\"2avtA_1_377\",\"2awaA_1_377\",\"3p16A_14_395\",\"4k74A_0_364\",\"4rkiA_2_375\",\"4tr6A_1_380\",\"4tr7A_10_400\",\"4tr8B_2_362\",\"4trtB_2_357\",\"5ah2A_9_390\",\"5w7zA_0_379\",\"5wceA_1_372\",\"5x06A_-1_365\",\"6amqC_1_365\",\"6ap4A_0_381\",\"6d46A_0_381\",\"6d47A_10_402\",\"6degA_0_373\",\"6dj8A_0_385\",\"6dlkA_0_379\",\"6manA_0_379\",\"7evpA_3_371\",\"7rzmA_2_361\"],\"legendgroup\":\"6\",\"marker\":{\"color\":\"#EF553B\",\"symbol\":\"circle\",\"line\":{\"color\":\"DarkSlateGrey\",\"width\":1},\"size\":6},\"mode\":\"markers\",\"name\":\"6\",\"scene\":\"scene\",\"showlegend\":true,\"x\":[-0.02826245321658413,0.059934890209868114,-0.09871857419238128,-0.06546628967702713,-0.09662252956470278,-0.04193323889168167,-0.030679557842015308,-0.0747191405560253,-0.0830569096596149,-0.0264739312984258,-0.13734802474311789,-0.11540519381621993,-0.08606746984219801,-0.022825228510721073,-0.04042466418401976,-0.04899286045826132,0.009928140835130389,-0.0463090820254268,-0.10547864160993681,-0.11523868377702069,-0.10464825732388265,-0.06360612481386431,-0.035943064568734376,-0.014325214391653008,-0.024271435846984716],\"y\":[-0.12276133116413669,-0.11729206489978317,-0.1613576439566963,-0.14165135821538707,-0.08329197382895025,-0.13544493306050367,-0.15380782842762766,-0.14780368497888643,-0.07631265695391298,-0.14193956175289707,-0.06633244095620558,-0.08909178379577214,-0.11355100721811824,-0.17351461953511477,-0.13390099632262417,-0.1522086201520973,-0.18695558329797174,-0.11031584580008685,-0.10120514655161746,-0.10341306653484328,-0.14668090388682078,-0.13951923295098315,-0.10893091087941584,-0.14798776799934052,-0.1803134326910865],\"z\":[-0.0198977529891624,0.004434129057454613,-0.0034463277640519865,0.03301096357353345,-0.10895167504124038,-0.0067786493538043915,-0.08126513621565368,-0.03159686628244796,-0.08283051231148188,-0.004298661842747921,-0.046112222340021096,-0.05189703896880454,-0.046829280361727545,0.01109819093962418,0.016863133415216155,0.002908112172308982,-0.009892704253147842,-0.0706348891066161,-0.06777469211327286,0.04125636170651891,0.07440306431521868,-0.06303937540839576,-0.07650198454004858,-0.04845397429895246,-0.015694624383524848],\"type\":\"scatter3d\"}],                        {\"template\":{\"data\":{\"histogram2dcontour\":[{\"type\":\"histogram2dcontour\",\"colorbar\":{\"outlinewidth\":0,\"ticks\":\"\"},\"colorscale\":[[0.0,\"#0d0887\"],[0.1111111111111111,\"#46039f\"],[0.2222222222222222,\"#7201a8\"],[0.3333333333333333,\"#9c179e\"],[0.4444444444444444,\"#bd3786\"],[0.5555555555555556,\"#d8576b\"],[0.6666666666666666,\"#ed7953\"],[0.7777777777777778,\"#fb9f3a\"],[0.8888888888888888,\"#fdca26\"],[1.0,\"#f0f921\"]]}],\"choropleth\":[{\"type\":\"choropleth\",\"colorbar\":{\"outlinewidth\":0,\"ticks\":\"\"}}],\"histogram2d\":[{\"type\":\"histogram2d\",\"colorbar\":{\"outlinewidth\":0,\"ticks\":\"\"},\"colorscale\":[[0.0,\"#0d0887\"],[0.1111111111111111,\"#46039f\"],[0.2222222222222222,\"#7201a8\"],[0.3333333333333333,\"#9c179e\"],[0.4444444444444444,\"#bd3786\"],[0.5555555555555556,\"#d8576b\"],[0.6666666666666666,\"#ed7953\"],[0.7777777777777778,\"#fb9f3a\"],[0.8888888888888888,\"#fdca26\"],[1.0,\"#f0f921\"]]}],\"heatmap\":[{\"type\":\"heatmap\",\"colorbar\":{\"outlinewidth\":0,\"ticks\":\"\"},\"colorscale\":[[0.0,\"#0d0887\"],[0.1111111111111111,\"#46039f\"],[0.2222222222222222,\"#7201a8\"],[0.3333333333333333,\"#9c179e\"],[0.4444444444444444,\"#bd3786\"],[0.5555555555555556,\"#d8576b\"],[0.6666666666666666,\"#ed7953\"],[0.7777777777777778,\"#fb9f3a\"],[0.8888888888888888,\"#fdca26\"],[1.0,\"#f0f921\"]]}],\"heatmapgl\":[{\"type\":\"heatmapgl\",\"colorbar\":{\"outlinewidth\":0,\"ticks\":\"\"},\"colorscale\":[[0.0,\"#0d0887\"],[0.1111111111111111,\"#46039f\"],[0.2222222222222222,\"#7201a8\"],[0.3333333333333333,\"#9c179e\"],[0.4444444444444444,\"#bd3786\"],[0.5555555555555556,\"#d8576b\"],[0.6666666666666666,\"#ed7953\"],[0.7777777777777778,\"#fb9f3a\"],[0.8888888888888888,\"#fdca26\"],[1.0,\"#f0f921\"]]}],\"contourcarpet\":[{\"type\":\"contourcarpet\",\"colorbar\":{\"outlinewidth\":0,\"ticks\":\"\"}}],\"contour\":[{\"type\":\"contour\",\"colorbar\":{\"outlinewidth\":0,\"ticks\":\"\"},\"colorscale\":[[0.0,\"#0d0887\"],[0.1111111111111111,\"#46039f\"],[0.2222222222222222,\"#7201a8\"],[0.3333333333333333,\"#9c179e\"],[0.4444444444444444,\"#bd3786\"],[0.5555555555555556,\"#d8576b\"],[0.6666666666666666,\"#ed7953\"],[0.7777777777777778,\"#fb9f3a\"],[0.8888888888888888,\"#fdca26\"],[1.0,\"#f0f921\"]]}],\"surface\":[{\"type\":\"surface\",\"colorbar\":{\"outlinewidth\":0,\"ticks\":\"\"},\"colorscale\":[[0.0,\"#0d0887\"],[0.1111111111111111,\"#46039f\"],[0.2222222222222222,\"#7201a8\"],[0.3333333333333333,\"#9c179e\"],[0.4444444444444444,\"#bd3786\"],[0.5555555555555556,\"#d8576b\"],[0.6666666666666666,\"#ed7953\"],[0.7777777777777778,\"#fb9f3a\"],[0.8888888888888888,\"#fdca26\"],[1.0,\"#f0f921\"]]}],\"mesh3d\":[{\"type\":\"mesh3d\",\"colorbar\":{\"outlinewidth\":0,\"ticks\":\"\"}}],\"scatter\":[{\"marker\":{\"line\":{\"color\":\"#283442\"}},\"type\":\"scatter\"}],\"parcoords\":[{\"type\":\"parcoords\",\"line\":{\"colorbar\":{\"outlinewidth\":0,\"ticks\":\"\"}}}],\"scatterpolargl\":[{\"type\":\"scatterpolargl\",\"marker\":{\"colorbar\":{\"outlinewidth\":0,\"ticks\":\"\"}}}],\"bar\":[{\"error_x\":{\"color\":\"#f2f5fa\"},\"error_y\":{\"color\":\"#f2f5fa\"},\"marker\":{\"line\":{\"color\":\"rgb(17,17,17)\",\"width\":0.5},\"pattern\":{\"fillmode\":\"overlay\",\"size\":10,\"solidity\":0.2}},\"type\":\"bar\"}],\"scattergeo\":[{\"type\":\"scattergeo\",\"marker\":{\"colorbar\":{\"outlinewidth\":0,\"ticks\":\"\"}}}],\"scatterpolar\":[{\"type\":\"scatterpolar\",\"marker\":{\"colorbar\":{\"outlinewidth\":0,\"ticks\":\"\"}}}],\"histogram\":[{\"marker\":{\"pattern\":{\"fillmode\":\"overlay\",\"size\":10,\"solidity\":0.2}},\"type\":\"histogram\"}],\"scattergl\":[{\"marker\":{\"line\":{\"color\":\"#283442\"}},\"type\":\"scattergl\"}],\"scatter3d\":[{\"type\":\"scatter3d\",\"line\":{\"colorbar\":{\"outlinewidth\":0,\"ticks\":\"\"}},\"marker\":{\"colorbar\":{\"outlinewidth\":0,\"ticks\":\"\"}}}],\"scattermapbox\":[{\"type\":\"scattermapbox\",\"marker\":{\"colorbar\":{\"outlinewidth\":0,\"ticks\":\"\"}}}],\"scatterternary\":[{\"type\":\"scatterternary\",\"marker\":{\"colorbar\":{\"outlinewidth\":0,\"ticks\":\"\"}}}],\"scattercarpet\":[{\"type\":\"scattercarpet\",\"marker\":{\"colorbar\":{\"outlinewidth\":0,\"ticks\":\"\"}}}],\"carpet\":[{\"aaxis\":{\"endlinecolor\":\"#A2B1C6\",\"gridcolor\":\"#506784\",\"linecolor\":\"#506784\",\"minorgridcolor\":\"#506784\",\"startlinecolor\":\"#A2B1C6\"},\"baxis\":{\"endlinecolor\":\"#A2B1C6\",\"gridcolor\":\"#506784\",\"linecolor\":\"#506784\",\"minorgridcolor\":\"#506784\",\"startlinecolor\":\"#A2B1C6\"},\"type\":\"carpet\"}],\"table\":[{\"cells\":{\"fill\":{\"color\":\"#506784\"},\"line\":{\"color\":\"rgb(17,17,17)\"}},\"header\":{\"fill\":{\"color\":\"#2a3f5f\"},\"line\":{\"color\":\"rgb(17,17,17)\"}},\"type\":\"table\"}],\"barpolar\":[{\"marker\":{\"line\":{\"color\":\"rgb(17,17,17)\",\"width\":0.5},\"pattern\":{\"fillmode\":\"overlay\",\"size\":10,\"solidity\":0.2}},\"type\":\"barpolar\"}],\"pie\":[{\"automargin\":true,\"type\":\"pie\"}]},\"layout\":{\"autotypenumbers\":\"strict\",\"colorway\":[\"#636efa\",\"#EF553B\",\"#00cc96\",\"#ab63fa\",\"#FFA15A\",\"#19d3f3\",\"#FF6692\",\"#B6E880\",\"#FF97FF\",\"#FECB52\"],\"font\":{\"color\":\"#f2f5fa\"},\"hovermode\":\"closest\",\"hoverlabel\":{\"align\":\"left\"},\"paper_bgcolor\":\"rgb(17,17,17)\",\"plot_bgcolor\":\"rgb(17,17,17)\",\"polar\":{\"bgcolor\":\"rgb(17,17,17)\",\"angularaxis\":{\"gridcolor\":\"#506784\",\"linecolor\":\"#506784\",\"ticks\":\"\"},\"radialaxis\":{\"gridcolor\":\"#506784\",\"linecolor\":\"#506784\",\"ticks\":\"\"}},\"ternary\":{\"bgcolor\":\"rgb(17,17,17)\",\"aaxis\":{\"gridcolor\":\"#506784\",\"linecolor\":\"#506784\",\"ticks\":\"\"},\"baxis\":{\"gridcolor\":\"#506784\",\"linecolor\":\"#506784\",\"ticks\":\"\"},\"caxis\":{\"gridcolor\":\"#506784\",\"linecolor\":\"#506784\",\"ticks\":\"\"}},\"coloraxis\":{\"colorbar\":{\"outlinewidth\":0,\"ticks\":\"\"}},\"colorscale\":{\"sequential\":[[0.0,\"#0d0887\"],[0.1111111111111111,\"#46039f\"],[0.2222222222222222,\"#7201a8\"],[0.3333333333333333,\"#9c179e\"],[0.4444444444444444,\"#bd3786\"],[0.5555555555555556,\"#d8576b\"],[0.6666666666666666,\"#ed7953\"],[0.7777777777777778,\"#fb9f3a\"],[0.8888888888888888,\"#fdca26\"],[1.0,\"#f0f921\"]],\"sequentialminus\":[[0.0,\"#0d0887\"],[0.1111111111111111,\"#46039f\"],[0.2222222222222222,\"#7201a8\"],[0.3333333333333333,\"#9c179e\"],[0.4444444444444444,\"#bd3786\"],[0.5555555555555556,\"#d8576b\"],[0.6666666666666666,\"#ed7953\"],[0.7777777777777778,\"#fb9f3a\"],[0.8888888888888888,\"#fdca26\"],[1.0,\"#f0f921\"]],\"diverging\":[[0,\"#8e0152\"],[0.1,\"#c51b7d\"],[0.2,\"#de77ae\"],[0.3,\"#f1b6da\"],[0.4,\"#fde0ef\"],[0.5,\"#f7f7f7\"],[0.6,\"#e6f5d0\"],[0.7,\"#b8e186\"],[0.8,\"#7fbc41\"],[0.9,\"#4d9221\"],[1,\"#276419\"]]},\"xaxis\":{\"gridcolor\":\"#283442\",\"linecolor\":\"#506784\",\"ticks\":\"\",\"title\":{\"standoff\":15},\"zerolinecolor\":\"#283442\",\"automargin\":true,\"zerolinewidth\":2},\"yaxis\":{\"gridcolor\":\"#283442\",\"linecolor\":\"#506784\",\"ticks\":\"\",\"title\":{\"standoff\":15},\"zerolinecolor\":\"#283442\",\"automargin\":true,\"zerolinewidth\":2},\"scene\":{\"xaxis\":{\"backgroundcolor\":\"rgb(17,17,17)\",\"gridcolor\":\"#506784\",\"linecolor\":\"#506784\",\"showbackground\":true,\"ticks\":\"\",\"zerolinecolor\":\"#C8D4E3\",\"gridwidth\":2},\"yaxis\":{\"backgroundcolor\":\"rgb(17,17,17)\",\"gridcolor\":\"#506784\",\"linecolor\":\"#506784\",\"showbackground\":true,\"ticks\":\"\",\"zerolinecolor\":\"#C8D4E3\",\"gridwidth\":2},\"zaxis\":{\"backgroundcolor\":\"rgb(17,17,17)\",\"gridcolor\":\"#506784\",\"linecolor\":\"#506784\",\"showbackground\":true,\"ticks\":\"\",\"zerolinecolor\":\"#C8D4E3\",\"gridwidth\":2}},\"shapedefaults\":{\"line\":{\"color\":\"#f2f5fa\"}},\"annotationdefaults\":{\"arrowcolor\":\"#f2f5fa\",\"arrowhead\":0,\"arrowwidth\":1},\"geo\":{\"bgcolor\":\"rgb(17,17,17)\",\"landcolor\":\"rgb(17,17,17)\",\"subunitcolor\":\"#506784\",\"showland\":true,\"showlakes\":true,\"lakecolor\":\"rgb(17,17,17)\"},\"title\":{\"x\":0.05},\"updatemenudefaults\":{\"bgcolor\":\"#506784\",\"borderwidth\":0},\"sliderdefaults\":{\"bgcolor\":\"#C8D4E3\",\"borderwidth\":1,\"bordercolor\":\"rgb(17,17,17)\",\"tickwidth\":0},\"mapbox\":{\"style\":\"dark\"}}},\"scene\":{\"domain\":{\"x\":[0.0,1.0],\"y\":[0.0,1.0]},\"xaxis\":{\"title\":{\"text\":\"X\"}},\"yaxis\":{\"title\":{\"text\":\"Y\"}},\"zaxis\":{\"title\":{\"text\":\"Z\"}}},\"legend\":{\"title\":{\"text\":\"color\"},\"tracegroupgap\":0},\"margin\":{\"t\":60}},                        {\"responsive\": true}                    ).then(function(){\n                            \nvar gd = document.getElementById('9995a4d5-6656-4d8d-a6f5-5166377fb138');\nvar x = new MutationObserver(function (mutations, observer) {{\n        var display = window.getComputedStyle(gd).display;\n        if (!display || display === 'none') {{\n            console.log([gd, 'removed!']);\n            Plotly.purge(gd);\n            observer.disconnect();\n        }}\n}});\n\n// Listen for the removal of the full notebook cells\nvar notebookContainer = gd.closest('#notebook-container');\nif (notebookContainer) {{\n    x.observe(notebookContainer, {childList: true});\n}}\n\n// Listen for the clearing of the current output cell\nvar outputEl = gd.closest('.output');\nif (outputEl) {{\n    x.observe(outputEl, {childList: true});\n}}\n\n                        })                };                });            </script>        </div>"
     },
     "metadata": {},
     "output_type": "display_data"
    }
   ],
   "source": [
    "mds = MDS(n_components=3, dissimilarity=\"precomputed\", n_init=1000, max_iter=2000)\n",
    "X_r = mds.fit(alignment_matrix).embedding_\n",
    "\n",
    "df = pd.DataFrame({\"X\":X_r[:,0], \"Y\":X_r[:,1], \"Z\":X_r[:,2], \"color\":color_list,  \"ID\":alignment_matrix.index.tolist()})\n",
    "\n",
    "fig = px.scatter_3d(df, x=\"X\", y=\"Y\", z=\"Z\", color=\"color\", hover_name=\"ID\")\n",
    "fig.update_traces(marker=dict(size=6, line=dict(width=1, color='DarkSlateGrey')), selector=dict(mode='markers'))\n",
    "\n",
    "fig.show()"
   ],
   "metadata": {
    "collapsed": false,
    "pycharm": {
     "name": "#%%\n"
    }
   }
  }
 ],
 "metadata": {
  "kernelspec": {
   "display_name": "Python 3",
   "language": "python",
   "name": "python3"
  },
  "language_info": {
   "codemirror_mode": {
    "name": "ipython",
    "version": 2
   },
   "file_extension": ".py",
   "mimetype": "text/x-python",
   "name": "python",
   "nbconvert_exporter": "python",
   "pygments_lexer": "ipython2",
   "version": "2.7.6"
  }
 },
 "nbformat": 4,
 "nbformat_minor": 0
}