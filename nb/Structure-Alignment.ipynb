{
 "cells": [
  {
   "cell_type": "code",
   "execution_count": 42,
   "metadata": {
    "collapsed": true,
    "pycharm": {
     "name": "#%%\n"
    }
   },
   "outputs": [],
   "source": [
    "import pandas as pd\n",
    "from itertools import combinations\n",
    "from src.foldseek import Foldseek"
   ]
  },
  {
   "cell_type": "markdown",
   "source": [
    "#### Specify the paths"
   ],
   "metadata": {
    "collapsed": false,
    "pycharm": {
     "name": "#%% md\n"
    }
   }
  },
  {
   "cell_type": "code",
   "execution_count": 27,
   "outputs": [],
   "source": [
    "structure_dir = \"../data/structures/trimmed_4units\"\n",
    "structure_db = \"../data/databases/4units_db/db\"\n",
    "alignment_db = \"../data/databases/alignment_db/db\"\n",
    "alignment_df_path = \"../data/dataframes/alignment_df.tsv\"\n",
    "alignment_matrix_path = \"../data/dataframes/alignment_matrix.csv\"\n",
    "temp_dir = \"/tmp\""
   ],
   "metadata": {
    "collapsed": false,
    "pycharm": {
     "name": "#%%\n"
    }
   }
  },
  {
   "cell_type": "markdown",
   "source": [
    "#### Initialize Foldseek"
   ],
   "metadata": {
    "collapsed": false,
    "pycharm": {
     "name": "#%% md\n"
    }
   }
  },
  {
   "cell_type": "code",
   "execution_count": 5,
   "outputs": [],
   "source": [
    "foldseek = Foldseek()"
   ],
   "metadata": {
    "collapsed": false,
    "pycharm": {
     "name": "#%%\n"
    }
   }
  },
  {
   "cell_type": "markdown",
   "source": [
    "#### Create Foldseek DB from structure directory"
   ],
   "metadata": {
    "collapsed": false,
    "pycharm": {
     "name": "#%% md\n"
    }
   }
  },
  {
   "cell_type": "code",
   "execution_count": null,
   "outputs": [],
   "source": [
    "foldseek.createdb(input_file=structure_dir, output_file=structure_db)"
   ],
   "metadata": {
    "collapsed": false,
    "pycharm": {
     "name": "#%%\n",
     "is_executing": true
    }
   }
  },
  {
   "cell_type": "markdown",
   "source": [
    "#### Search the database against itself with in exhaustive way"
   ],
   "metadata": {
    "collapsed": false,
    "pycharm": {
     "name": "#%% md\n"
    }
   }
  },
  {
   "cell_type": "code",
   "execution_count": null,
   "outputs": [],
   "source": [
    "foldseek.search(query_db=structure_db, target_db=structure_db, alignment_db=alignment_db, temp_dir=temp_dir, exhaustive=\"1\", align_type=\"1\", e=\"inf\")"
   ],
   "metadata": {
    "collapsed": false,
    "pycharm": {
     "name": "#%%\n",
     "is_executing": true
    }
   }
  },
  {
   "cell_type": "markdown",
   "source": [
    "#### Convert the alignment output to dataframe"
   ],
   "metadata": {
    "collapsed": false,
    "pycharm": {
     "name": "#%% md\n"
    }
   }
  },
  {
   "cell_type": "code",
   "execution_count": null,
   "outputs": [],
   "source": [
    "foldseek.createtsv(query_db=structure_db, target_db=structure_db, alignment_db=alignment_db, output_path=alignment_df_path)"
   ],
   "metadata": {
    "collapsed": false,
    "pycharm": {
     "name": "#%%\n",
     "is_executing": true
    }
   }
  },
  {
   "cell_type": "markdown",
   "source": [
    "#### Load and parse the dataframe"
   ],
   "metadata": {
    "collapsed": false,
    "pycharm": {
     "name": "#%% md\n"
    }
   }
  },
  {
   "cell_type": "code",
   "execution_count": 29,
   "outputs": [
    {
     "data": {
      "text/plain": "                       0                    1   2      3       4   5    6   \\\n0     1czdA_1001_1228.pdb  1czdA_1001_1228.pdb   0  1.000  1.0000   0  227   \n1     1czdA_1001_1228.pdb      1b77A_1_228.pdb  98  0.789  0.9896   0  227   \n2     1czdA_1001_1228.pdb      1vpkA_1_361.pdb  72  0.063  0.7152   0  219   \n3     1czdA_1001_1228.pdb      6t8hE_2_247.pdb  73  0.073  0.7127   0  222   \n4     1czdA_1001_1228.pdb      3g65A_1_273.pdb  74  0.089  0.7125   0  223   \n...                   ...                  ...  ..    ...     ...  ..  ...   \n3964      6ap4A_0_381.pdb      1ud9A_1_240.pdb  65  0.079  0.6700   3  246   \n3965      6ap4A_0_381.pdb      3aixB_3_244.pdb  65  0.078  0.6651   3  246   \n3966      6ap4A_0_381.pdb      3hslX_4_300.pdb  69  0.059  0.6560   0  248   \n3967      6ap4A_0_381.pdb      2z0lA_1_299.pdb  69  0.066  0.6461   0  248   \n3968      6ap4A_0_381.pdb     1dmlA_29_319.pdb  66  0.078  0.6434   0  248   \n\n       7   8    9    10  \n0     228   0  227  228  \n1     228   0  227  228  \n2     228   2  234  235  \n3     228   3  245  246  \n4     228   2  248  254  \n...   ...  ..  ...  ...  \n3964  249   0  236  237  \n3965  249   0  241  242  \n3966  249   3  285  287  \n3967  249   3  295  299  \n3968  249   1  262  267  \n\n[3969 rows x 11 columns]",
      "text/html": "<div>\n<style scoped>\n    .dataframe tbody tr th:only-of-type {\n        vertical-align: middle;\n    }\n\n    .dataframe tbody tr th {\n        vertical-align: top;\n    }\n\n    .dataframe thead th {\n        text-align: right;\n    }\n</style>\n<table border=\"1\" class=\"dataframe\">\n  <thead>\n    <tr style=\"text-align: right;\">\n      <th></th>\n      <th>0</th>\n      <th>1</th>\n      <th>2</th>\n      <th>3</th>\n      <th>4</th>\n      <th>5</th>\n      <th>6</th>\n      <th>7</th>\n      <th>8</th>\n      <th>9</th>\n      <th>10</th>\n    </tr>\n  </thead>\n  <tbody>\n    <tr>\n      <th>0</th>\n      <td>1czdA_1001_1228.pdb</td>\n      <td>1czdA_1001_1228.pdb</td>\n      <td>0</td>\n      <td>1.000</td>\n      <td>1.0000</td>\n      <td>0</td>\n      <td>227</td>\n      <td>228</td>\n      <td>0</td>\n      <td>227</td>\n      <td>228</td>\n    </tr>\n    <tr>\n      <th>1</th>\n      <td>1czdA_1001_1228.pdb</td>\n      <td>1b77A_1_228.pdb</td>\n      <td>98</td>\n      <td>0.789</td>\n      <td>0.9896</td>\n      <td>0</td>\n      <td>227</td>\n      <td>228</td>\n      <td>0</td>\n      <td>227</td>\n      <td>228</td>\n    </tr>\n    <tr>\n      <th>2</th>\n      <td>1czdA_1001_1228.pdb</td>\n      <td>1vpkA_1_361.pdb</td>\n      <td>72</td>\n      <td>0.063</td>\n      <td>0.7152</td>\n      <td>0</td>\n      <td>219</td>\n      <td>228</td>\n      <td>2</td>\n      <td>234</td>\n      <td>235</td>\n    </tr>\n    <tr>\n      <th>3</th>\n      <td>1czdA_1001_1228.pdb</td>\n      <td>6t8hE_2_247.pdb</td>\n      <td>73</td>\n      <td>0.073</td>\n      <td>0.7127</td>\n      <td>0</td>\n      <td>222</td>\n      <td>228</td>\n      <td>3</td>\n      <td>245</td>\n      <td>246</td>\n    </tr>\n    <tr>\n      <th>4</th>\n      <td>1czdA_1001_1228.pdb</td>\n      <td>3g65A_1_273.pdb</td>\n      <td>74</td>\n      <td>0.089</td>\n      <td>0.7125</td>\n      <td>0</td>\n      <td>223</td>\n      <td>228</td>\n      <td>2</td>\n      <td>248</td>\n      <td>254</td>\n    </tr>\n    <tr>\n      <th>...</th>\n      <td>...</td>\n      <td>...</td>\n      <td>...</td>\n      <td>...</td>\n      <td>...</td>\n      <td>...</td>\n      <td>...</td>\n      <td>...</td>\n      <td>...</td>\n      <td>...</td>\n      <td>...</td>\n    </tr>\n    <tr>\n      <th>3964</th>\n      <td>6ap4A_0_381.pdb</td>\n      <td>1ud9A_1_240.pdb</td>\n      <td>65</td>\n      <td>0.079</td>\n      <td>0.6700</td>\n      <td>3</td>\n      <td>246</td>\n      <td>249</td>\n      <td>0</td>\n      <td>236</td>\n      <td>237</td>\n    </tr>\n    <tr>\n      <th>3965</th>\n      <td>6ap4A_0_381.pdb</td>\n      <td>3aixB_3_244.pdb</td>\n      <td>65</td>\n      <td>0.078</td>\n      <td>0.6651</td>\n      <td>3</td>\n      <td>246</td>\n      <td>249</td>\n      <td>0</td>\n      <td>241</td>\n      <td>242</td>\n    </tr>\n    <tr>\n      <th>3966</th>\n      <td>6ap4A_0_381.pdb</td>\n      <td>3hslX_4_300.pdb</td>\n      <td>69</td>\n      <td>0.059</td>\n      <td>0.6560</td>\n      <td>0</td>\n      <td>248</td>\n      <td>249</td>\n      <td>3</td>\n      <td>285</td>\n      <td>287</td>\n    </tr>\n    <tr>\n      <th>3967</th>\n      <td>6ap4A_0_381.pdb</td>\n      <td>2z0lA_1_299.pdb</td>\n      <td>69</td>\n      <td>0.066</td>\n      <td>0.6461</td>\n      <td>0</td>\n      <td>248</td>\n      <td>249</td>\n      <td>3</td>\n      <td>295</td>\n      <td>299</td>\n    </tr>\n    <tr>\n      <th>3968</th>\n      <td>6ap4A_0_381.pdb</td>\n      <td>1dmlA_29_319.pdb</td>\n      <td>66</td>\n      <td>0.078</td>\n      <td>0.6434</td>\n      <td>0</td>\n      <td>248</td>\n      <td>249</td>\n      <td>1</td>\n      <td>262</td>\n      <td>267</td>\n    </tr>\n  </tbody>\n</table>\n<p>3969 rows × 11 columns</p>\n</div>"
     },
     "execution_count": 29,
     "metadata": {},
     "output_type": "execute_result"
    }
   ],
   "source": [
    "alignment_df = pd.read_csv(alignment_df_path, delimiter=\"\\t\", header=None)\n",
    "alignment_df"
   ],
   "metadata": {
    "collapsed": false,
    "pycharm": {
     "name": "#%%\n"
    }
   }
  },
  {
   "cell_type": "code",
   "execution_count": 30,
   "outputs": [
    {
     "data": {
      "text/plain": "                    query               target  tmscore\n0     1czdA_1001_1228.pdb  1czdA_1001_1228.pdb   1.0000\n1     1czdA_1001_1228.pdb      1b77A_1_228.pdb   0.9896\n2     1czdA_1001_1228.pdb      1vpkA_1_361.pdb   0.7152\n3     1czdA_1001_1228.pdb      6t8hE_2_247.pdb   0.7127\n4     1czdA_1001_1228.pdb      3g65A_1_273.pdb   0.7125\n...                   ...                  ...      ...\n3964      6ap4A_0_381.pdb      1ud9A_1_240.pdb   0.6700\n3965      6ap4A_0_381.pdb      3aixB_3_244.pdb   0.6651\n3966      6ap4A_0_381.pdb      3hslX_4_300.pdb   0.6560\n3967      6ap4A_0_381.pdb      2z0lA_1_299.pdb   0.6461\n3968      6ap4A_0_381.pdb     1dmlA_29_319.pdb   0.6434\n\n[3969 rows x 3 columns]",
      "text/html": "<div>\n<style scoped>\n    .dataframe tbody tr th:only-of-type {\n        vertical-align: middle;\n    }\n\n    .dataframe tbody tr th {\n        vertical-align: top;\n    }\n\n    .dataframe thead th {\n        text-align: right;\n    }\n</style>\n<table border=\"1\" class=\"dataframe\">\n  <thead>\n    <tr style=\"text-align: right;\">\n      <th></th>\n      <th>query</th>\n      <th>target</th>\n      <th>tmscore</th>\n    </tr>\n  </thead>\n  <tbody>\n    <tr>\n      <th>0</th>\n      <td>1czdA_1001_1228.pdb</td>\n      <td>1czdA_1001_1228.pdb</td>\n      <td>1.0000</td>\n    </tr>\n    <tr>\n      <th>1</th>\n      <td>1czdA_1001_1228.pdb</td>\n      <td>1b77A_1_228.pdb</td>\n      <td>0.9896</td>\n    </tr>\n    <tr>\n      <th>2</th>\n      <td>1czdA_1001_1228.pdb</td>\n      <td>1vpkA_1_361.pdb</td>\n      <td>0.7152</td>\n    </tr>\n    <tr>\n      <th>3</th>\n      <td>1czdA_1001_1228.pdb</td>\n      <td>6t8hE_2_247.pdb</td>\n      <td>0.7127</td>\n    </tr>\n    <tr>\n      <th>4</th>\n      <td>1czdA_1001_1228.pdb</td>\n      <td>3g65A_1_273.pdb</td>\n      <td>0.7125</td>\n    </tr>\n    <tr>\n      <th>...</th>\n      <td>...</td>\n      <td>...</td>\n      <td>...</td>\n    </tr>\n    <tr>\n      <th>3964</th>\n      <td>6ap4A_0_381.pdb</td>\n      <td>1ud9A_1_240.pdb</td>\n      <td>0.6700</td>\n    </tr>\n    <tr>\n      <th>3965</th>\n      <td>6ap4A_0_381.pdb</td>\n      <td>3aixB_3_244.pdb</td>\n      <td>0.6651</td>\n    </tr>\n    <tr>\n      <th>3966</th>\n      <td>6ap4A_0_381.pdb</td>\n      <td>3hslX_4_300.pdb</td>\n      <td>0.6560</td>\n    </tr>\n    <tr>\n      <th>3967</th>\n      <td>6ap4A_0_381.pdb</td>\n      <td>2z0lA_1_299.pdb</td>\n      <td>0.6461</td>\n    </tr>\n    <tr>\n      <th>3968</th>\n      <td>6ap4A_0_381.pdb</td>\n      <td>1dmlA_29_319.pdb</td>\n      <td>0.6434</td>\n    </tr>\n  </tbody>\n</table>\n<p>3969 rows × 3 columns</p>\n</div>"
     },
     "execution_count": 30,
     "metadata": {},
     "output_type": "execute_result"
    }
   ],
   "source": [
    "alignment_df = alignment_df.iloc[:,[0,1,4]]\n",
    "alignment_df.columns = [\"query\", \"target\", \"tmscore\"]\n",
    "alignment_df"
   ],
   "metadata": {
    "collapsed": false,
    "pycharm": {
     "name": "#%%\n"
    }
   }
  },
  {
   "cell_type": "code",
   "execution_count": 31,
   "outputs": [
    {
     "data": {
      "text/plain": "1953"
     },
     "execution_count": 31,
     "metadata": {},
     "output_type": "execute_result"
    }
   ],
   "source": [
    "combinations_list = list(combinations(alignment_df[\"query\"].unique(), 2))\n",
    "len(combinations_list)"
   ],
   "metadata": {
    "collapsed": false,
    "pycharm": {
     "name": "#%%\n"
    }
   }
  },
  {
   "cell_type": "code",
   "execution_count": 32,
   "outputs": [
    {
     "data": {
      "text/plain": "                    query           target  tmscore\n1     1czdA_1001_1228.pdb  1b77A_1_228.pdb   0.9896\n2     1czdA_1001_1228.pdb  1vpkA_1_361.pdb   0.7152\n3     1czdA_1001_1228.pdb  6t8hE_2_247.pdb   0.7127\n4     1czdA_1001_1228.pdb  3g65A_1_273.pdb   0.7125\n5     1czdA_1001_1228.pdb  6dj8A_0_385.pdb   0.7106\n...                   ...              ...      ...\n3766      1ud9A_1_240.pdb  4tr6A_1_380.pdb   0.6809\n3770      1ud9A_1_240.pdb  6ap4A_0_381.pdb   0.6700\n3826     3a1jC_17_271.pdb  6ap4A_0_381.pdb   0.7449\n3834     3a1jC_17_271.pdb  4tr6A_1_380.pdb   0.7381\n3852      4tr6A_1_380.pdb  6ap4A_0_381.pdb   0.9065\n\n[1953 rows x 3 columns]",
      "text/html": "<div>\n<style scoped>\n    .dataframe tbody tr th:only-of-type {\n        vertical-align: middle;\n    }\n\n    .dataframe tbody tr th {\n        vertical-align: top;\n    }\n\n    .dataframe thead th {\n        text-align: right;\n    }\n</style>\n<table border=\"1\" class=\"dataframe\">\n  <thead>\n    <tr style=\"text-align: right;\">\n      <th></th>\n      <th>query</th>\n      <th>target</th>\n      <th>tmscore</th>\n    </tr>\n  </thead>\n  <tbody>\n    <tr>\n      <th>1</th>\n      <td>1czdA_1001_1228.pdb</td>\n      <td>1b77A_1_228.pdb</td>\n      <td>0.9896</td>\n    </tr>\n    <tr>\n      <th>2</th>\n      <td>1czdA_1001_1228.pdb</td>\n      <td>1vpkA_1_361.pdb</td>\n      <td>0.7152</td>\n    </tr>\n    <tr>\n      <th>3</th>\n      <td>1czdA_1001_1228.pdb</td>\n      <td>6t8hE_2_247.pdb</td>\n      <td>0.7127</td>\n    </tr>\n    <tr>\n      <th>4</th>\n      <td>1czdA_1001_1228.pdb</td>\n      <td>3g65A_1_273.pdb</td>\n      <td>0.7125</td>\n    </tr>\n    <tr>\n      <th>5</th>\n      <td>1czdA_1001_1228.pdb</td>\n      <td>6dj8A_0_385.pdb</td>\n      <td>0.7106</td>\n    </tr>\n    <tr>\n      <th>...</th>\n      <td>...</td>\n      <td>...</td>\n      <td>...</td>\n    </tr>\n    <tr>\n      <th>3766</th>\n      <td>1ud9A_1_240.pdb</td>\n      <td>4tr6A_1_380.pdb</td>\n      <td>0.6809</td>\n    </tr>\n    <tr>\n      <th>3770</th>\n      <td>1ud9A_1_240.pdb</td>\n      <td>6ap4A_0_381.pdb</td>\n      <td>0.6700</td>\n    </tr>\n    <tr>\n      <th>3826</th>\n      <td>3a1jC_17_271.pdb</td>\n      <td>6ap4A_0_381.pdb</td>\n      <td>0.7449</td>\n    </tr>\n    <tr>\n      <th>3834</th>\n      <td>3a1jC_17_271.pdb</td>\n      <td>4tr6A_1_380.pdb</td>\n      <td>0.7381</td>\n    </tr>\n    <tr>\n      <th>3852</th>\n      <td>4tr6A_1_380.pdb</td>\n      <td>6ap4A_0_381.pdb</td>\n      <td>0.9065</td>\n    </tr>\n  </tbody>\n</table>\n<p>1953 rows × 3 columns</p>\n</div>"
     },
     "execution_count": 32,
     "metadata": {},
     "output_type": "execute_result"
    }
   ],
   "source": [
    "filtered_df = alignment_df[alignment_df.apply(lambda row: (row['query'], row['target']) in combinations_list, axis=1)]\n",
    "filtered_df"
   ],
   "metadata": {
    "collapsed": false,
    "pycharm": {
     "name": "#%%\n"
    }
   }
  },
  {
   "cell_type": "code",
   "execution_count": null,
   "outputs": [],
   "source": [
    "# Trim the \".pdb\" part from the 'query' column\n",
    "filtered_df['query'] = filtered_df['query'].str.replace('.pdb', '')\n",
    "# Trim the \".pdb\" part from the 'target' column\n",
    "filtered_df['target'] = filtered_df['target'].str.replace('.pdb', '')"
   ],
   "metadata": {
    "collapsed": false,
    "pycharm": {
     "name": "#%%\n",
     "is_executing": true
    }
   }
  },
  {
   "cell_type": "markdown",
   "source": [
    "#### Create a distance matrix from alignment results"
   ],
   "metadata": {
    "collapsed": false,
    "pycharm": {
     "name": "#%% md\n"
    }
   }
  },
  {
   "cell_type": "code",
   "execution_count": 34,
   "outputs": [
    {
     "data": {
      "text/plain": "query            1b77A_1_228  1czdA_1001_1228  1dmlA_29_319  1iz4A_2_244  \\\ntarget                                                                     \n1b77A_1_228           0.0000           0.0104        0.3844       0.3211   \n1czdA_1001_1228       0.0104           0.0000        0.3844       0.3162   \n1dmlA_29_319          0.3844           0.3844        0.0000       0.3696   \n1iz4A_2_244           0.3211           0.3162        0.3696       0.0000   \n1mmiB_1_363           0.3048           0.3030        0.3397       0.2747   \n...                      ...              ...           ...          ...   \n7bupA_1_255           0.3027           0.2969        0.3317       0.0999   \n7ep8A_1_256           0.3114           0.3038        0.3212       0.1246   \n7evpA_3_371           0.3011           0.3066        0.3420       0.2935   \n7o1eA_2_251           0.3422           0.3343        0.3378       0.1153   \n7rzmA_2_361           0.2959           0.2997        0.3530       0.3071   \n\nquery            1mmiB_1_363  1plqA_1_250  1rxmA_1_238  1ud9A_1_240  \\\ntarget                                                                \n1b77A_1_228           0.3048       0.3142       0.3119       0.3440   \n1czdA_1001_1228       0.3030       0.3117       0.3079       0.3404   \n1dmlA_29_319          0.3397       0.3295       0.3376       0.3677   \n1iz4A_2_244           0.2747       0.1381       0.1122       0.0808   \n1mmiB_1_363           0.0000       0.2397       0.2358       0.2974   \n...                      ...          ...          ...          ...   \n7bupA_1_255           0.2472       0.0769       0.1381       0.1297   \n7ep8A_1_256           0.2618       0.0646       0.1485       0.1341   \n7evpA_3_371           0.0859       0.2448       0.2494       0.3023   \n7o1eA_2_251           0.2747       0.0707       0.1536       0.1253   \n7rzmA_2_361           0.0634       0.2740       0.2799       0.3362   \n\nquery            1vpkA_1_361  2avtA_1_377  ...  6dj8A_0_385  6dlkA_0_379  \\\ntarget                                     ...                             \n1b77A_1_228           0.2793       0.3298  ...       0.2871       0.3038   \n1czdA_1001_1228       0.2848       0.3274  ...       0.2894       0.3052   \n1dmlA_29_319          0.3695       0.3399  ...       0.3462       0.3496   \n1iz4A_2_244           0.2535       0.3332  ...       0.3265       0.3056   \n1mmiB_1_363           0.1104       0.1065  ...       0.1392       0.0831   \n...                      ...          ...  ...          ...          ...   \n7bupA_1_255           0.2228       0.2972  ...       0.2954       0.2738   \n7ep8A_1_256           0.2445       0.3046  ...       0.3084       0.2846   \n7evpA_3_371           0.1319       0.0681  ...       0.1411       0.0966   \n7o1eA_2_251           0.2602       0.3179  ...       0.3224       0.2973   \n7rzmA_2_361           0.1358       0.1055  ...       0.1420       0.1011   \n\nquery            6manA_0_379  6qh1A_1_253  6t8hE_2_247  7bupA_1_255  \\\ntarget                                                                \n1b77A_1_228           0.3009       0.2963       0.2907       0.3027   \n1czdA_1001_1228       0.3050       0.2898       0.2873       0.2969   \n1dmlA_29_319          0.3501       0.3175       0.3272       0.3317   \n1iz4A_2_244           0.2738       0.1068       0.0543       0.0999   \n1mmiB_1_363           0.0799       0.2442       0.2436       0.2472   \n...                      ...          ...          ...          ...   \n7bupA_1_255           0.2510       0.0463       0.0847       0.0000   \n7ep8A_1_256           0.2634       0.0495       0.0930       0.0556   \n7evpA_3_371           0.0961       0.2570       0.2631       0.2643   \n7o1eA_2_251           0.2734       0.0588       0.1135       0.0608   \n7rzmA_2_361           0.1199       0.2861       0.2832       0.2931   \n\nquery            7ep8A_1_256  7evpA_3_371  7o1eA_2_251  7rzmA_2_361  \ntarget                                                               \n1b77A_1_228           0.3114       0.3011       0.3422       0.2959  \n1czdA_1001_1228       0.3038       0.3066       0.3343       0.2997  \n1dmlA_29_319          0.3212       0.3420       0.3378       0.3530  \n1iz4A_2_244           0.1246       0.2935       0.1153       0.3071  \n1mmiB_1_363           0.2618       0.0859       0.2747       0.0634  \n...                      ...          ...          ...          ...  \n7bupA_1_255           0.0556       0.2643       0.0608       0.2931  \n7ep8A_1_256           0.0000       0.2774       0.0395       0.3086  \n7evpA_3_371           0.2774       0.0000       0.2902       0.0877  \n7o1eA_2_251           0.0395       0.2902       0.0000       0.3216  \n7rzmA_2_361           0.3086       0.0877       0.3216       0.0000  \n\n[63 rows x 63 columns]",
      "text/html": "<div>\n<style scoped>\n    .dataframe tbody tr th:only-of-type {\n        vertical-align: middle;\n    }\n\n    .dataframe tbody tr th {\n        vertical-align: top;\n    }\n\n    .dataframe thead th {\n        text-align: right;\n    }\n</style>\n<table border=\"1\" class=\"dataframe\">\n  <thead>\n    <tr style=\"text-align: right;\">\n      <th>query</th>\n      <th>1b77A_1_228</th>\n      <th>1czdA_1001_1228</th>\n      <th>1dmlA_29_319</th>\n      <th>1iz4A_2_244</th>\n      <th>1mmiB_1_363</th>\n      <th>1plqA_1_250</th>\n      <th>1rxmA_1_238</th>\n      <th>1ud9A_1_240</th>\n      <th>1vpkA_1_361</th>\n      <th>2avtA_1_377</th>\n      <th>...</th>\n      <th>6dj8A_0_385</th>\n      <th>6dlkA_0_379</th>\n      <th>6manA_0_379</th>\n      <th>6qh1A_1_253</th>\n      <th>6t8hE_2_247</th>\n      <th>7bupA_1_255</th>\n      <th>7ep8A_1_256</th>\n      <th>7evpA_3_371</th>\n      <th>7o1eA_2_251</th>\n      <th>7rzmA_2_361</th>\n    </tr>\n    <tr>\n      <th>target</th>\n      <th></th>\n      <th></th>\n      <th></th>\n      <th></th>\n      <th></th>\n      <th></th>\n      <th></th>\n      <th></th>\n      <th></th>\n      <th></th>\n      <th></th>\n      <th></th>\n      <th></th>\n      <th></th>\n      <th></th>\n      <th></th>\n      <th></th>\n      <th></th>\n      <th></th>\n      <th></th>\n      <th></th>\n    </tr>\n  </thead>\n  <tbody>\n    <tr>\n      <th>1b77A_1_228</th>\n      <td>0.0000</td>\n      <td>0.0104</td>\n      <td>0.3844</td>\n      <td>0.3211</td>\n      <td>0.3048</td>\n      <td>0.3142</td>\n      <td>0.3119</td>\n      <td>0.3440</td>\n      <td>0.2793</td>\n      <td>0.3298</td>\n      <td>...</td>\n      <td>0.2871</td>\n      <td>0.3038</td>\n      <td>0.3009</td>\n      <td>0.2963</td>\n      <td>0.2907</td>\n      <td>0.3027</td>\n      <td>0.3114</td>\n      <td>0.3011</td>\n      <td>0.3422</td>\n      <td>0.2959</td>\n    </tr>\n    <tr>\n      <th>1czdA_1001_1228</th>\n      <td>0.0104</td>\n      <td>0.0000</td>\n      <td>0.3844</td>\n      <td>0.3162</td>\n      <td>0.3030</td>\n      <td>0.3117</td>\n      <td>0.3079</td>\n      <td>0.3404</td>\n      <td>0.2848</td>\n      <td>0.3274</td>\n      <td>...</td>\n      <td>0.2894</td>\n      <td>0.3052</td>\n      <td>0.3050</td>\n      <td>0.2898</td>\n      <td>0.2873</td>\n      <td>0.2969</td>\n      <td>0.3038</td>\n      <td>0.3066</td>\n      <td>0.3343</td>\n      <td>0.2997</td>\n    </tr>\n    <tr>\n      <th>1dmlA_29_319</th>\n      <td>0.3844</td>\n      <td>0.3844</td>\n      <td>0.0000</td>\n      <td>0.3696</td>\n      <td>0.3397</td>\n      <td>0.3295</td>\n      <td>0.3376</td>\n      <td>0.3677</td>\n      <td>0.3695</td>\n      <td>0.3399</td>\n      <td>...</td>\n      <td>0.3462</td>\n      <td>0.3496</td>\n      <td>0.3501</td>\n      <td>0.3175</td>\n      <td>0.3272</td>\n      <td>0.3317</td>\n      <td>0.3212</td>\n      <td>0.3420</td>\n      <td>0.3378</td>\n      <td>0.3530</td>\n    </tr>\n    <tr>\n      <th>1iz4A_2_244</th>\n      <td>0.3211</td>\n      <td>0.3162</td>\n      <td>0.3696</td>\n      <td>0.0000</td>\n      <td>0.2747</td>\n      <td>0.1381</td>\n      <td>0.1122</td>\n      <td>0.0808</td>\n      <td>0.2535</td>\n      <td>0.3332</td>\n      <td>...</td>\n      <td>0.3265</td>\n      <td>0.3056</td>\n      <td>0.2738</td>\n      <td>0.1068</td>\n      <td>0.0543</td>\n      <td>0.0999</td>\n      <td>0.1246</td>\n      <td>0.2935</td>\n      <td>0.1153</td>\n      <td>0.3071</td>\n    </tr>\n    <tr>\n      <th>1mmiB_1_363</th>\n      <td>0.3048</td>\n      <td>0.3030</td>\n      <td>0.3397</td>\n      <td>0.2747</td>\n      <td>0.0000</td>\n      <td>0.2397</td>\n      <td>0.2358</td>\n      <td>0.2974</td>\n      <td>0.1104</td>\n      <td>0.1065</td>\n      <td>...</td>\n      <td>0.1392</td>\n      <td>0.0831</td>\n      <td>0.0799</td>\n      <td>0.2442</td>\n      <td>0.2436</td>\n      <td>0.2472</td>\n      <td>0.2618</td>\n      <td>0.0859</td>\n      <td>0.2747</td>\n      <td>0.0634</td>\n    </tr>\n    <tr>\n      <th>...</th>\n      <td>...</td>\n      <td>...</td>\n      <td>...</td>\n      <td>...</td>\n      <td>...</td>\n      <td>...</td>\n      <td>...</td>\n      <td>...</td>\n      <td>...</td>\n      <td>...</td>\n      <td>...</td>\n      <td>...</td>\n      <td>...</td>\n      <td>...</td>\n      <td>...</td>\n      <td>...</td>\n      <td>...</td>\n      <td>...</td>\n      <td>...</td>\n      <td>...</td>\n      <td>...</td>\n    </tr>\n    <tr>\n      <th>7bupA_1_255</th>\n      <td>0.3027</td>\n      <td>0.2969</td>\n      <td>0.3317</td>\n      <td>0.0999</td>\n      <td>0.2472</td>\n      <td>0.0769</td>\n      <td>0.1381</td>\n      <td>0.1297</td>\n      <td>0.2228</td>\n      <td>0.2972</td>\n      <td>...</td>\n      <td>0.2954</td>\n      <td>0.2738</td>\n      <td>0.2510</td>\n      <td>0.0463</td>\n      <td>0.0847</td>\n      <td>0.0000</td>\n      <td>0.0556</td>\n      <td>0.2643</td>\n      <td>0.0608</td>\n      <td>0.2931</td>\n    </tr>\n    <tr>\n      <th>7ep8A_1_256</th>\n      <td>0.3114</td>\n      <td>0.3038</td>\n      <td>0.3212</td>\n      <td>0.1246</td>\n      <td>0.2618</td>\n      <td>0.0646</td>\n      <td>0.1485</td>\n      <td>0.1341</td>\n      <td>0.2445</td>\n      <td>0.3046</td>\n      <td>...</td>\n      <td>0.3084</td>\n      <td>0.2846</td>\n      <td>0.2634</td>\n      <td>0.0495</td>\n      <td>0.0930</td>\n      <td>0.0556</td>\n      <td>0.0000</td>\n      <td>0.2774</td>\n      <td>0.0395</td>\n      <td>0.3086</td>\n    </tr>\n    <tr>\n      <th>7evpA_3_371</th>\n      <td>0.3011</td>\n      <td>0.3066</td>\n      <td>0.3420</td>\n      <td>0.2935</td>\n      <td>0.0859</td>\n      <td>0.2448</td>\n      <td>0.2494</td>\n      <td>0.3023</td>\n      <td>0.1319</td>\n      <td>0.0681</td>\n      <td>...</td>\n      <td>0.1411</td>\n      <td>0.0966</td>\n      <td>0.0961</td>\n      <td>0.2570</td>\n      <td>0.2631</td>\n      <td>0.2643</td>\n      <td>0.2774</td>\n      <td>0.0000</td>\n      <td>0.2902</td>\n      <td>0.0877</td>\n    </tr>\n    <tr>\n      <th>7o1eA_2_251</th>\n      <td>0.3422</td>\n      <td>0.3343</td>\n      <td>0.3378</td>\n      <td>0.1153</td>\n      <td>0.2747</td>\n      <td>0.0707</td>\n      <td>0.1536</td>\n      <td>0.1253</td>\n      <td>0.2602</td>\n      <td>0.3179</td>\n      <td>...</td>\n      <td>0.3224</td>\n      <td>0.2973</td>\n      <td>0.2734</td>\n      <td>0.0588</td>\n      <td>0.1135</td>\n      <td>0.0608</td>\n      <td>0.0395</td>\n      <td>0.2902</td>\n      <td>0.0000</td>\n      <td>0.3216</td>\n    </tr>\n    <tr>\n      <th>7rzmA_2_361</th>\n      <td>0.2959</td>\n      <td>0.2997</td>\n      <td>0.3530</td>\n      <td>0.3071</td>\n      <td>0.0634</td>\n      <td>0.2740</td>\n      <td>0.2799</td>\n      <td>0.3362</td>\n      <td>0.1358</td>\n      <td>0.1055</td>\n      <td>...</td>\n      <td>0.1420</td>\n      <td>0.1011</td>\n      <td>0.1199</td>\n      <td>0.2861</td>\n      <td>0.2832</td>\n      <td>0.2931</td>\n      <td>0.3086</td>\n      <td>0.0877</td>\n      <td>0.3216</td>\n      <td>0.0000</td>\n    </tr>\n  </tbody>\n</table>\n<p>63 rows × 63 columns</p>\n</div>"
     },
     "execution_count": 34,
     "metadata": {},
     "output_type": "execute_result"
    }
   ],
   "source": [
    "alignment_matrix = filtered_df.pivot_table(columns=\"query\", index=\"target\", values=\"tmscore\")\n",
    "\n",
    "missing_col = [i for i in alignment_matrix.index if i not in alignment_matrix.columns]\n",
    "missing_index = [i for i in alignment_matrix.columns if i not in alignment_matrix.index]\n",
    "\n",
    "alignment_matrix.loc[missing_index[0]] = [\"None\" for i in range(len(alignment_matrix.columns))]\n",
    "alignment_matrix[missing_col[0]] = [\"None\" for i in range(len(alignment_matrix.index))]\n",
    "\n",
    "alignment_matrix.sort_index(inplace=True)\n",
    "alignment_matrix.sort_index(axis=1, inplace=True)\n",
    "\n",
    "for i in alignment_matrix.index:\n",
    "    for c in alignment_matrix.columns:\n",
    "        if i == c:\n",
    "            alignment_matrix.loc[i, c] = 1.0\n",
    "        if pd.isnull(alignment_matrix.loc[i, c]) or alignment_matrix.loc[i, c] == \"None\":\n",
    "            alignment_matrix.loc[i, c] = alignment_matrix.loc[c, i]\n",
    "\n",
    "alignment_matrix = alignment_matrix[alignment_matrix.columns].astype(float)\n",
    "alignment_matrix = alignment_matrix.apply(lambda x: round(1 - x, 4))\n",
    "alignment_matrix"
   ],
   "metadata": {
    "collapsed": false,
    "pycharm": {
     "name": "#%%\n"
    }
   }
  },
  {
   "cell_type": "code",
   "execution_count": 40,
   "outputs": [],
   "source": [
    "alignment_matrix.to_csv(alignment_matrix_path)"
   ],
   "metadata": {
    "collapsed": false,
    "pycharm": {
     "name": "#%%\n"
    }
   }
  }
 ],
 "metadata": {
  "kernelspec": {
   "display_name": "Python 3",
   "language": "python",
   "name": "python3"
  },
  "language_info": {
   "codemirror_mode": {
    "name": "ipython",
    "version": 2
   },
   "file_extension": ".py",
   "mimetype": "text/x-python",
   "name": "python",
   "nbconvert_exporter": "python",
   "pygments_lexer": "ipython2",
   "version": "2.7.6"
  }
 },
 "nbformat": 4,
 "nbformat_minor": 0
}